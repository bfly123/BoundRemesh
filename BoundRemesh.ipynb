{
 "cells": [
  {
   "cell_type": "code",
   "execution_count": 20,
   "metadata": {},
   "outputs": [],
   "source": [
    "using PyPlot\n",
    "using SymPy"
   ]
  },
  {
   "cell_type": "markdown",
   "metadata": {},
   "source": [
    "<img src=\"fig2.png\" width=\"400\" hight=\"400\" div align = center>"
   ]
  },
  {
   "cell_type": "markdown",
   "metadata": {},
   "source": [
    "$$ A_i = (x_{i+1}-\\xi_i)(y_{i}-\\eta_{i+1}) +(\\xi_{i+1}-x_{i})(y_{i+1}-\\eta_i)$$"
   ]
  },
  {
   "cell_type": "markdown",
   "metadata": {},
   "source": [
    "$$ x_i = r_i(a_{i+1} - a_i)+a_i$$\n",
    "$$ y_i = r_i(b_{i+1} -b_i)+b_i$$"
   ]
  },
  {
   "cell_type": "markdown",
   "metadata": {},
   "source": [
    "$$ \\frac{\\partial A_i}{\\partial r_i} = \\frac{\\partial A_i}{\\partial x_i} \\frac{\\partial x_i}{\\partial r_i} + \\frac{\\partial A_i}{\\partial y_i} \\frac{\\partial y_i}{\\partial r_i} $$ "
   ]
  },
  {
   "cell_type": "markdown",
   "metadata": {},
   "source": [
    "$$ = - (y_{i+1} -\\eta_i)(a_{i+1} -a_i) + (x_{i+1} -\\eta_i)(b_{i+1} -b_i)$$"
   ]
  },
  {
   "cell_type": "markdown",
   "metadata": {},
   "source": [
    "$$ \\frac{\\partial A_i}{\\partial r_{i+1}} = \\frac{\\partial A_i}{\\partial x_{i+1}} \\frac{\\partial x_{i+1}}{\\partial r_{i+1}} + \\frac{\\partial A_i}{\\partial y_{i+1}} \\frac{\\partial y_{i+1}}{\\partial r_{i+1}} $$ "
   ]
  },
  {
   "cell_type": "markdown",
   "metadata": {},
   "source": [
    "$$ = (y_i-\\eta_{i+1})(a_{i+2} - a_{i+1}) + (\\xi_{i+1} -x_i)(b_{i+2} -b_{i+1})$$"
   ]
  },
  {
   "cell_type": "markdown",
   "metadata": {},
   "source": [
    "$$ A_i \\frac{\\partial A_i}{\\partial r_i} + A_{i-1}\\frac{\\partial A_{i-1}}{\\partial r_i} = 0$$"
   ]
  },
  {
   "cell_type": "code",
   "execution_count": 24,
   "metadata": {},
   "outputs": [
    {
     "ename": "UndefVarError",
     "evalue": "UndefVarError: A not defined",
     "output_type": "error",
     "traceback": [
      "UndefVarError: A not defined",
      "",
      "Stacktrace:",
      " [1] top-level scope at In[24]:2"
     ]
    }
   ],
   "source": [
    "@vars A"
   ]
  },
  {
   "cell_type": "code",
   "execution_count": 27,
   "metadata": {},
   "outputs": [
    {
     "data": {
      "text/plain": [
       "(Ai_r, ai, bi, aim1, bim1, ri, rim1, rip1, aip1, bip1, aip2, bip2)"
      ]
     },
     "execution_count": 27,
     "metadata": {},
     "output_type": "execute_result"
    }
   ],
   "source": [
    "@vars Ai_r ai bi aim1 bim1 ri rim1 rip1 aip1 bip1 aip2 bip2"
   ]
  },
  {
   "cell_type": "code",
   "execution_count": 22,
   "metadata": {},
   "outputs": [
    {
     "data": {
      "text/latex": [
       "\\begin{equation*}bim_{1} + rim_{1} \\left(bi - bim_{1}\\right)\\end{equation*}"
      ],
      "text/plain": [
       "bim₁ + rim₁⋅(bi - bim₁)"
      ]
     },
     "execution_count": 22,
     "metadata": {},
     "output_type": "execute_result"
    }
   ],
   "source": [
    "xi = ri*(aip1 - ai) +ai \n",
    "yi = ri*(bip1 - bi) +bi\n",
    "xip1 = rip1*(aip2 - aip1) +aip1 \n",
    "yip1 = rip1*(bip2 - bip1) +bip1\n",
    "xim1 = rim1*(ai - aim1) +aim1 \n",
    "yim1 = rim1*(bi - bim1) +bim1"
   ]
  },
  {
   "cell_type": "code",
   "execution_count": 28,
   "metadata": {},
   "outputs": [
    {
     "data": {
      "text/latex": [
       "\\begin{equation*}\\left(ai + ri \\left(- ai + aip_{1}\\right) - ξim1\\right) \\left(bim_{1} + rim_{1} \\left(bi - bim_{1}\\right) - ηi\\right) + \\left(- aim_{1} - rim_{1} \\left(ai - aim_{1}\\right) + ξi\\right) \\left(bi + ri \\left(- bi + bip_{1}\\right) - ηim1\\right)\\end{equation*}"
      ],
      "text/plain": [
       "(ai + ri⋅(-ai + aip₁) - ξim1)⋅(bim₁ + rim₁⋅(bi - bim₁) - ηi) + (-aim₁ - rim₁⋅(\n",
       "ai - aim₁) + ξi)⋅(bi + ri⋅(-bi + bip₁) - ηim1)"
      ]
     },
     "execution_count": 28,
     "metadata": {},
     "output_type": "execute_result"
    }
   ],
   "source": [
    "Ai = (xip1 - ξi)*(yi - ηip1) + (ξip1 - xi)*(yip1 - ηi)\n",
    "Aim1 = (xi - ξim1)*(yim1 - ηi) + (ξi - xim1)*(yi - ηim1)"
   ]
  },
  {
   "cell_type": "code",
   "execution_count": 37,
   "metadata": {},
   "outputs": [
    {
     "data": {
      "text/plain": [
       "(ηi, ξi, ηim1, ηip1, ξim1, ξip1, aim1, aip1, bim1, bip1, Ā)"
      ]
     },
     "execution_count": 37,
     "metadata": {},
     "output_type": "execute_result"
    }
   ],
   "source": [
    "@vars  ηi ξi ηim1 ηip1 ξim1 ξip1 aim1 aip1 bim1 bip1 Ā"
   ]
  },
  {
   "cell_type": "code",
   "execution_count": 38,
   "metadata": {},
   "outputs": [
    {
     "data": {
      "text/latex": [
       "\\begin{equation*}\\left(- ai + aip_{1}\\right) \\left(bim_{1} + rim_{1} \\left(bi - bim_{1}\\right) - ηi\\right) + \\left(- bi + bip_{1}\\right) \\left(- aim_{1} - rim_{1} \\left(ai - aim_{1}\\right) + ξi\\right)\\end{equation*}"
      ],
      "text/plain": [
       "(-ai + aip₁)⋅(bim₁ + rim₁⋅(bi - bim₁) - ηi) + (-bi + bip₁)⋅(-aim₁ - rim₁⋅(ai -\n",
       " aim₁) + ξi)"
      ]
     },
     "execution_count": 38,
     "metadata": {},
     "output_type": "execute_result"
    }
   ],
   "source": [
    "Ai_ri = -(yip1 -ηi)(aip1 -ai) + (xip1 -ηi)*(bip1 -bi)\n",
    "Aim1_ri = (yim1 - ηi)*(aip1 - ai) + (ξi - xim1)*(bip1 -bi)"
   ]
  },
  {
   "cell_type": "code",
   "execution_count": 39,
   "metadata": {},
   "outputs": [
    {
     "data": {
      "text/latex": [
       "\\begin{equation*}\\left(\\left(- ai + aip_{1}\\right) \\left(bim_{1} + rim_{1} \\left(bi - bim_{1}\\right) - ηi\\right) + \\left(- bi + bip_{1}\\right) \\left(- aim_{1} - rim_{1} \\left(ai - aim_{1}\\right) + ξi\\right)\\right) \\left(- Ā + \\left(ai + ri \\left(- ai + aip_{1}\\right) - ξim1\\right) \\left(bim_{1} + rim_{1} \\left(bi - bim_{1}\\right) - ηi\\right) + \\left(- aim_{1} - rim_{1} \\left(ai - aim_{1}\\right) + ξi\\right) \\left(bi + ri \\left(- bi + bip_{1}\\right) - ηim1\\right)\\right) + \\left(- Ā + \\left(- ai - ri \\left(- ai + aip_{1}\\right) + ξip1\\right) \\left(bip_{1} + rip_{1} \\left(- bip_{1} + bip_{2}\\right) - ηi\\right) + \\left(aip_{1} + rip_{1} \\left(- aip_{1} + aip_{2}\\right) - ξi\\right) \\left(bi + ri \\left(- bi + bip_{1}\\right) - ηip1\\right)\\right) \\left(- ai + aip_{1} - bip_{1} - rip_{1} \\left(- bip_{1} + bip_{2}\\right) + \\left(- bi + bip_{1}\\right) \\left(aip_{1} + rip_{1} \\left(- aip_{1} + aip_{2}\\right) - ηi\\right)\\right)\\end{equation*}"
      ],
      "text/plain": [
       "((-ai + aip₁)⋅(bim₁ + rim₁⋅(bi - bim₁) - ηi) + (-bi + bip₁)⋅(-aim₁ - rim₁⋅(ai \n",
       "- aim₁) + ξi))⋅(-Ā + (ai + ri⋅(-ai + aip₁) - ξim1)⋅(bim₁ + rim₁⋅(bi - bim₁) - \n",
       "ηi) + (-aim₁ - rim₁⋅(ai - aim₁) + ξi)⋅(bi + ri⋅(-bi + bip₁) - ηim1)) + (-Ā + (\n",
       "-ai - ri⋅(-ai + aip₁) + ξip1)⋅(bip₁ + rip₁⋅(-bip₁ + bip₂) - ηi) + (aip₁ + rip₁\n",
       "⋅(-aip₁ + aip₂) - ξi)⋅(bi + ri⋅(-bi + bip₁) - ηip1))⋅(-ai + aip₁ - bip₁ - rip₁\n",
       "⋅(-bip₁ + bip₂) + (-bi + bip₁)⋅(aip₁ + rip₁⋅(-aip₁ + aip₂) - ηi))"
      ]
     },
     "execution_count": 39,
     "metadata": {},
     "output_type": "execute_result"
    }
   ],
   "source": [
    "f = Ai_ri*(Ai - Ā) + Aim1_ri*(Aim1 -Ā)"
   ]
  },
  {
   "cell_type": "code",
   "execution_count": null,
   "metadata": {},
   "outputs": [],
   "source": []
  },
  {
   "cell_type": "code",
   "execution_count": 35,
   "metadata": {},
   "outputs": [
    {
     "data": {
      "text/latex": [
       "\\begin{equation*}\\left(\\left(- ai + aip_{1}\\right) \\left(bim_{1} + rim_{1} \\left(bi - bim_{1}\\right) - ηi\\right) + \\left(- bi + bip_{1}\\right) \\left(- aim_{1} - rim_{1} \\left(ai - aim_{1}\\right) + ξi\\right)\\right)^{2} + \\left(\\left(ai - aip_{1}\\right) \\left(bip_{1} + rip_{1} \\left(- bip_{1} + bip_{2}\\right) - ηi\\right) + \\left(- bi + bip_{1}\\right) \\left(aip_{1} + rip_{1} \\left(- aip_{1} + aip_{2}\\right) - ξi\\right)\\right) \\left(- ai + aip_{1} - bip_{1} - rip_{1} \\left(- bip_{1} + bip_{2}\\right) + \\left(- bi + bip_{1}\\right) \\left(aip_{1} + rip_{1} \\left(- aip_{1} + aip_{2}\\right) - ηi\\right)\\right)\\end{equation*}"
      ],
      "text/plain": [
       "                                                                              \n",
       "((-ai + aip₁)⋅(bim₁ + rim₁⋅(bi - bim₁) - ηi) + (-bi + bip₁)⋅(-aim₁ - rim₁⋅(ai \n",
       "\n",
       "              2                                                               \n",
       "- aim₁) + ξi))  + ((ai - aip₁)⋅(bip₁ + rip₁⋅(-bip₁ + bip₂) - ηi) + (-bi + bip₁\n",
       "\n",
       "                                                                              \n",
       ")⋅(aip₁ + rip₁⋅(-aip₁ + aip₂) - ξi))⋅(-ai + aip₁ - bip₁ - rip₁⋅(-bip₁ + bip₂) \n",
       "\n",
       "                                                 \n",
       "+ (-bi + bip₁)⋅(aip₁ + rip₁⋅(-aip₁ + aip₂) - ηi))"
      ]
     },
     "execution_count": 35,
     "metadata": {},
     "output_type": "execute_result"
    }
   ],
   "source": [
    "diff(f,ri)"
   ]
  },
  {
   "cell_type": "code",
   "execution_count": 55,
   "metadata": {},
   "outputs": [
    {
     "data": {
      "text/plain": [
       "10-element Array{Float64,1}:\n",
       " -0.6674468040623017 \n",
       " -0.573358686002022  \n",
       "  0.7870551741347326 \n",
       " -0.1949343517214169 \n",
       "  0.5155370402049362 \n",
       " -0.6759495693375489 \n",
       "  0.9883822696674169 \n",
       "  0.8860119159705078 \n",
       "  0.21417389018828326\n",
       " -0.9673342075452274 "
      ]
     },
     "execution_count": 55,
     "metadata": {},
     "output_type": "execute_result"
    }
   ],
   "source": [
    "θ1 = rand(10) .*170 .- 85\n",
    "ξ = cosd.(θ1)\n",
    "η = sind.(θ1)\n",
    "θ2 = rand(10) .*170 .- 85\n",
    "a = cosd.(θ2)\n",
    "b = sind.(θ2) "
   ]
  },
  {
   "cell_type": "code",
   "execution_count": 106,
   "metadata": {},
   "outputs": [
    {
     "data": {
      "image/png": "[encoded data removed]",
      "text/plain": [
       "Figure(PyObject <Figure size 640x480 with 1 Axes>)"
      ]
     },
     "metadata": {},
     "output_type": "display_data"
    },
    {
     "data": {
      "text/plain": [
       "1-element Array{PyCall.PyObject,1}:\n",
       " PyObject <matplotlib.lines.Line2D object at 0x7fc3c28fa828>"
      ]
     },
     "execution_count": 106,
     "metadata": {},
     "output_type": "execute_result"
    }
   ],
   "source": [
    "Δθ = 20\n",
    "for i = 1:10\n",
    "    θ = Δθ*(i-1)\n",
    "    a[i] = - cosd(θ)*2\n",
    "    b[i] = sind(θ)*2\n",
    "    \n",
    "    ξ[i] = -cosd(θ)*1.2 - 0.3\n",
    "    η[i] = sind(θ)*1.2\n",
    "    \n",
    "end\n",
    "plot(a,b)"
   ]
  },
  {
   "cell_type": "code",
   "execution_count": 56,
   "metadata": {},
   "outputs": [
    {
     "data": {
      "text/plain": [
       "10-element Array{Float64,1}:\n",
       " 2.52427939076565  \n",
       " 1.9544329250429175\n",
       " 3.0876565885530707\n",
       " 3.073389163326564 \n",
       " 3.736422195795365 \n",
       " 2.19428982010268  \n",
       " 4.1016950028799055\n",
       " 4.622540624714528 \n",
       " 4.4917249223709055\n",
       " 4.224578242337812 "
      ]
     },
     "execution_count": 56,
     "metadata": {},
     "output_type": "execute_result"
    }
   ],
   "source": [
    "I, =size(a)\n",
    "for i in 2:10\n",
    "    a[i] += a[i-1]\n",
    "    b[i] += b[i-1]\n",
    "    ξ[i] += ξ[i-1]\n",
    "    η[i] += η[i-1]\n",
    "end\n",
    "\n",
    "b .+= rand(I).* 1 .+3"
   ]
  },
  {
   "cell_type": "code",
   "execution_count": 110,
   "metadata": {},
   "outputs": [
    {
     "name": "stdout",
     "output_type": "stream",
     "text": [
      "f1 = -0.2120487266403381\n",
      "f1 = 0.7335383388281571\n",
      "r[i] = -1.4400506283923755\n"
     ]
    },
    {
     "ename": "BoundsError",
     "evalue": "BoundsError: attempt to access 10-element Array{Float64,1} at index [0]",
     "output_type": "error",
     "traceback": [
      "BoundsError: attempt to access 10-element Array{Float64,1} at index [0]",
      "",
      "Stacktrace:",
      " [1] getindex at ./array.jl:729 [inlined]",
      " [2] r_to_xy(::Array{Float64,1}, ::Array{Float64,1}, ::Float64) at ./In[5]:4",
      " [3] iteration_r(::Array{Float64,1}, ::Array{Float64,1}, ::Array{Float64,1}, ::Array{Float64,1}, ::Float64) at ./In[109]:23",
      " [4] iteration_f(::Array{Float64,1}, ::Array{Float64,1}, ::Array{Float64,1}, ::Array{Float64,1}) at ./In[8]:7",
      " [5] top-level scope at In[110]:1"
     ]
    }
   ],
   "source": [
    "r,A=iteration_f(ξ, η, a, b) "
   ]
  },
  {
   "cell_type": "code",
   "execution_count": 107,
   "metadata": {},
   "outputs": [
    {
     "data": {
      "image/png": "[encoded data removed]",
      "text/plain": [
       "Figure(PyObject <Figure size 1000x700 with 1 Axes>)"
      ]
     },
     "metadata": {},
     "output_type": "display_data"
    }
   ],
   "source": [
    "using PyPlot\n",
    "plt.subplots(figsize = (10,7))\n",
    "plot(a,b,color =\"red\",marker = \".\") \n",
    "plot(ξ,η,color = \"black\", marker = \".\")\n",
    "for i in 1:10\n",
    "    plot((a[i],ξ[i]),(b[i],η[i]),color = \"black\", linewidth =\"0.3\")\n",
    "end"
   ]
  },
  {
   "cell_type": "code",
   "execution_count": 103,
   "metadata": {},
   "outputs": [
    {
     "data": {
      "image/png": "[encoded data removed]",
      "text/plain": [
       "Figure(PyObject <Figure size 1000x700 with 1 Axes>)"
      ]
     },
     "metadata": {},
     "output_type": "display_data"
    }
   ],
   "source": [
    "x,y = fxy(a, b, r)\n",
    "plt.subplots(figsize = (10,7))\n",
    "plot(a,b,color = \"red\", marker = \".\")\n",
    "plot(x,y,color = \"blue\",linestyle = \"dashed\") \n",
    "plot(ξ,η,color = \"black\",marker = \".\")\n",
    "for i in 1:10\n",
    "    plot((x[i],ξ[i]),(y[i],η[i]),color = \"black\", linewidth =\"0.3\")\n",
    "end"
   ]
  },
  {
   "cell_type": "code",
   "execution_count": 136,
   "metadata": {},
   "outputs": [
    {
     "data": {
      "text/plain": [
       "optimizeξη_r (generic function with 1 method)"
      ]
     },
     "execution_count": 136,
     "metadata": {},
     "output_type": "execute_result"
    }
   ],
   "source": [
    "function  optimizeξη_r(a,b,ξ,η,Ā)\n",
    "    I, = size(a)\n",
    "    r = zeros(Float64,I-2)\n",
    "    \n",
    "    for i in 1:I - 2\n",
    "            if i == 1\n",
    "            \n",
    "                x,y = (ξ[i]+ξ[i+1])/2,(η[i] +η[i+1])/2                                                                                                                         \n",
    "                d = distance(x,y,a[i],b[i],a[i+1],b[i+1])\n",
    "                k₁ = (η[i+1] - η[i])/(ξ[i+1] -ξ[i])\n",
    "                k₂ = (b[i+1] - b[i])/(a[i+1] -a[i])\n",
    "                cosθ = abs(1 - k₁*k₂)/√((1-k₁*k₂)^2  + (k₁ - k₂)^2)\n",
    "               \n",
    "                l = Ā/d/cosθ\n",
    "                \n",
    "                δl = 1.e10\n",
    "                for j in 1:10\n",
    "                    Δr = 2/9\n",
    "\n",
    "                    x,y = r_to_xy(ξ,η,Δr*(j-1))\n",
    "\n",
    "                    lend = √((x - ξ[1])^2 +(y - η[1])^2)\n",
    "\n",
    "                    δl = abs(lend - l)\n",
    "                    if abs(lend - l) ≤ δl \n",
    "                            δl = abs(lend - l)\n",
    "                            r[i] = Δr*(j-1)\n",
    "                    end\n",
    "                    @show d,l,lend,δl\n",
    "                end\n",
    "                \n",
    "                \n",
    "            else\n",
    "            \n",
    "                xₗ,yₗ = r_to_xy(ξ,η,r[i-1])\n",
    "                k = Int(floor(r[i-1])) +1  \n",
    "                x,y = (ξ[k]+xₗ)/2,(η[k] +yₗ)/2 \n",
    "\n",
    "                d = distance(x,y,a[i],b[i],a[i+1],b[i+1])\n",
    "                k₁ = (η[k] - yₗ)/(ξ[k] -xₗ)\n",
    "                k₂ = (b[i+1] - b[i])/(a[i+1] -a[i])\n",
    "                cosθ = abs(1 - k₁*k₂)/√((1-k₁*k₂)^2  + (k₁ - k₂)^2)\n",
    "\n",
    "                l = Ā/d/cosθ\n",
    "                 δl = 1.e10\n",
    "                for j = 1:10\n",
    "                    Δr = 2/9\n",
    "                    x,y = r_to_xy(ξ,η,r[i-1]+Δr*(j-1))\n",
    "                    lend = √((x - xₗ)^2 +(y - yₗ)^2)\n",
    "                    δl = abs(lend - l)\n",
    "                    if abs(lend - l) ≤ δl \n",
    "                            δl = abs(lend - l)\n",
    "                            r[i] = r[i-1]+Δr*(j-1)\n",
    "                    end\n",
    "                end\n",
    "            end\n",
    "        end \n",
    "            x_local= zeros(Float64,4)\n",
    "            y_local= zeros(Float64,4)\n",
    "            x_local[1],y_local[1] = r_to_xy(ξ,η,r[I-2])\n",
    "            x_local[2] = ξ[I]\n",
    "            y_local[2] = η[I]\n",
    "\n",
    "            x_local[3] = a[I]\n",
    "            y_local[3] = b[I]\n",
    "            x_local[4]= a[I-1]\n",
    "            y_local[4] = b[I-1]\n",
    "            \n",
    "            f = area4(x_local,y_local) - Ā\n",
    "        \n",
    "            xₗ,yₗ = r_to_xy(ξ,η,r[I-2]) \n",
    "            x,y = (ξ[I]+xₗ)/2,(η[I] +yₗ)/2 \n",
    "\n",
    "            d = distance(x,y,a[I-1],b[I-1],a[I],b[I])\n",
    "            k₁ = (η[I] - yₗ)/(ξ[I] -xₗ)\n",
    "            k₂ = (b[I] - b[I-1])/(a[I] -a[I-1])\n",
    "            cosθ = abs(1 - k₁*k₂)/√((1-k₁*k₂)^2  + (k₁ - k₂)^2)\n",
    "\n",
    "                l = Ā/d/cosθ\n",
    "        \n",
    "        f= l - √((xₗ - x)^2 +(yₗ - y)^2)\n",
    "        \n",
    "        return f,r\n",
    "    end\n",
    "            "
   ]
  },
  {
   "cell_type": "code",
   "execution_count": 137,
   "metadata": {},
   "outputs": [
    {
     "name": "stdout",
     "output_type": "stream",
     "text": [
      "(d, l, lend, δl) = (0.49240387650610395, 0.8890786696546834, 0.0, 0.8890786696546834)\n",
      "(d, l, lend, δl) = (0.49240387650610395, 0.8890786696546834, 0.09261236142236284, 0.7964663082323206)\n",
      "(d, l, lend, δl) = (0.49240387650610395, 0.8890786696546834, 0.1852247228447257, 0.7038539468099577)\n",
      "(d, l, lend, δl) = (0.49240387650610395, 0.8890786696546834, 0.2778370842670885, 0.611241585387595)\n",
      "(d, l, lend, δl) = (0.49240387650610395, 0.8890786696546834, 0.3704494456894514, 0.518629223965232)\n",
      "(d, l, lend, δl) = (0.49240387650610395, 0.8890786696546834, 0.4605416050842191, 0.4285370645704643)\n",
      "(d, l, lend, δl) = (0.49240387650610395, 0.8890786696546834, 0.5493548761955411, 0.3397237934591423)\n",
      "(d, l, lend, δl) = (0.49240387650610395, 0.8890786696546834, 0.6392472831092366, 0.2498313865454468)\n",
      "(d, l, lend, δl) = (0.49240387650610395, 0.8890786696546834, 0.729820181210218, 0.15925848844446544)\n",
      "(d, l, lend, δl) = (0.49240387650610395, 0.8890786696546834, 0.820848343981605, 0.0682303256730784)\n"
     ]
    },
    {
     "data": {
      "text/plain": [
       "(-0.08695652173912949, [2.0, 0.0, 0.0, 0.0, 0.0, 0.0, 0.0, 0.0])"
      ]
     },
     "execution_count": 137,
     "metadata": {},
     "output_type": "execute_result"
    }
   ],
   "source": [
    "Ā,A = area_average(a, b, ξ, η) \n",
    "f,r = optimizeξη_r(a,b,ξ,η,Ā)"
   ]
  },
  {
   "cell_type": "code",
   "execution_count": 2,
   "metadata": {},
   "outputs": [
    {
     "data": {
      "text/plain": [
       "fxy (generic function with 1 method)"
      ]
     },
     "execution_count": 2,
     "metadata": {},
     "output_type": "execute_result"
    }
   ],
   "source": [
    "function fxy(a,b,r)\n",
    "I, = size(a)\n",
    "x = zeros(Float64,I)\n",
    "y = zeros(Float64,I)\n",
    "for i in 2:I-1\n",
    "    x[i],y[i] = r_to_xy(a,b,r[i-1])\n",
    "end\n",
    "x[1] = a[1]\n",
    "y[1] =b[1]\n",
    "x[10] = a[10]\n",
    "y[10] = b[10]\n",
    "    return x,y\n",
    "end"
   ]
  },
  {
   "cell_type": "code",
   "execution_count": 3,
   "metadata": {},
   "outputs": [
    {
     "data": {
      "text/plain": [
       "area_average (generic function with 1 method)"
      ]
     },
     "execution_count": 3,
     "metadata": {},
     "output_type": "execute_result"
    }
   ],
   "source": [
    "function area_average(a,b,ξ,η)\n",
    "    I, = size(a)\n",
    "    x = zeros(Float64,4)\n",
    "    y = zeros(Float64,4)\n",
    "    Asum = 0\n",
    "    A = zeros(Float64,I-1)\n",
    "    for i in 1:I-1\n",
    "        x = [ξ[i],ξ[i+1],a[i+1],a[i]]\n",
    "        y = [η[i],η[i+1],b[i+1],b[i]]\n",
    "        Asum  += area4(x,y)\n",
    "        A[i] = area4(x,y)\n",
    "        end\n",
    "    return Asum/(I-1) ,A\n",
    "end"
   ]
  },
  {
   "cell_type": "code",
   "execution_count": 4,
   "metadata": {},
   "outputs": [
    {
     "data": {
      "text/plain": [
       "area4 (generic function with 1 method)"
      ]
     },
     "execution_count": 4,
     "metadata": {},
     "output_type": "execute_result"
    }
   ],
   "source": [
    "function area4(x,y)\n",
    "    area1 = 0.5((x[3] -x[1])*(y[4] - y[2]) +(x[2] - x[4])*(y[3] - y[1]))   \n",
    "end"
   ]
  },
  {
   "cell_type": "code",
   "execution_count": 5,
   "metadata": {},
   "outputs": [
    {
     "data": {
      "text/plain": [
       "r_to_xy (generic function with 1 method)"
      ]
     },
     "execution_count": 5,
     "metadata": {},
     "output_type": "execute_result"
    }
   ],
   "source": [
    "function r_to_xy(a,b,r)\n",
    "    I, = size(a) \n",
    "     i = Int(1+ floor(r))\n",
    "     x = (a[i+1] - a[i])*(r-floor(r)) +a[i]\n",
    "     y = (b[i+1] - b[i])*(r-floor(r)) +b[i]\n",
    "    return x,y\n",
    "end"
   ]
  },
  {
   "cell_type": "code",
   "execution_count": 111,
   "metadata": {},
   "outputs": [
    {
     "data": {
      "text/plain": [
       "iteration_r (generic function with 1 method)"
      ]
     },
     "execution_count": 111,
     "metadata": {},
     "output_type": "execute_result"
    }
   ],
   "source": [
    "function iteration_r(ξ,η,a,b,Ā)\n",
    "    I, = size(a)\n",
    "    r = zeros(Float64,I-1)\n",
    "    x = zeros(Float64,I-1)\n",
    "    y = zeros(Float64,I-1)\n",
    "    \n",
    "    x_local= zeros(Float64,4)\n",
    "    y_local= zeros(Float64,4)\n",
    "   \n",
    "   \n",
    "    \n",
    "    for i in 1:I-2\n",
    "   # i =1\n",
    "        x_local[1] = ξ[i]\n",
    "        y_local[1] = η[i]\n",
    "        x_local[2] = ξ[i+1]\n",
    "        y_local[2] = η[i+1]\n",
    "        if i ==1\n",
    "            x_local[4] = a[1]\n",
    "            y_local[4] = b[1]\n",
    "            r[i] = 0 \n",
    "        else\n",
    "            x_local[4],y_local[4] = r_to_xy(a,b,r[i-1])\n",
    "            r[i] = r[i-1]\n",
    "        end \n",
    "        \n",
    "        x_local[3],y_local[3] = r_to_xy(a,b,r[i])\n",
    "#        @show x_local,y_local\n",
    "         f = farea(x_local,y_local,a,b,r[i],Ā)\n",
    "            rt = r[i]\n",
    "        h = 0 \n",
    "        if f > 0 \n",
    "            h = distance(x_local[3],y_local[3],ξ[i],η[i],ξ[i+1],η[i+1])\n",
    "            r[i] +=  Ā/h\n",
    "            @show r[i]\n",
    "        else\n",
    "            for j = 1:4\n",
    "            #while abs(f) > 1.e-4\n",
    "\n",
    "                fd = f¹(x_local,y_local,a,b,r[i],Ā)\n",
    "          #   @show   typeof(fd)\n",
    "                 f = farea(x_local,y_local,a,b,r[i],Ā)\n",
    "              \n",
    "                 r[i] -= f /fd\n",
    " \n",
    "                if r[i] ≥ I -1 \n",
    "                    r[i] = I-1 - 0.00001\n",
    "                end\n",
    "                 if r[i] ≤ 0 \n",
    "                    r[i] = 0.00001\n",
    "                end\n",
    "\n",
    "\n",
    "             end\n",
    " \n",
    "        end\n",
    "        \n",
    "  #      @show f\n",
    "    end\n",
    "    \n",
    "        x_local= zeros(Float64,4)\n",
    "        y_local= zeros(Float64,4)\n",
    "        x_local[1] = ξ[I-1]\n",
    "        y_local[1] = η[I-1]\n",
    "        x_local[2] = ξ[I]\n",
    "        y_local[2] = η[I]\n",
    "\n",
    "        x_local[3] = a[I]\n",
    "        y_local[3] = b[I]\n",
    "        x_local[4],y_local[4] = x_local[3],x_local[3]\n",
    "    \n",
    "#         if area4(x_local,y_local) - Ā >0\n",
    "#             h = distance(a[I],b[I], ξ[I-1],η[I-1],ξ[I],η[I])\n",
    "#             r[8] = (I-1) - Ā/h\n",
    "#             f = 0\n",
    "#         else\n",
    "            x_local[4],y_local[4] = r_to_xy(a,b,r[8])\n",
    "       \n",
    "             f = area4(x_local,y_local) - Ā\n",
    "#        end\n",
    " #   @show typeof(r)\n",
    "    return f,r\n",
    "end"
   ]
  },
  {
   "cell_type": "code",
   "execution_count": 7,
   "metadata": {},
   "outputs": [
    {
     "data": {
      "text/plain": [
       "distance (generic function with 1 method)"
      ]
     },
     "execution_count": 7,
     "metadata": {},
     "output_type": "execute_result"
    }
   ],
   "source": [
    "function distance(x1,y1,x2,y2,x3,y3)\n",
    "    d=abs((x1-x2)*(y2-y3) -(x2-x3)*(y1-y2))/√((x2-x3)^2 +(y2-y3)^2)\n",
    "return d\n",
    "end"
   ]
  },
  {
   "cell_type": "code",
   "execution_count": 8,
   "metadata": {},
   "outputs": [
    {
     "data": {
      "text/plain": [
       "iteration_f (generic function with 1 method)"
      ]
     },
     "execution_count": 8,
     "metadata": {},
     "output_type": "execute_result"
    }
   ],
   "source": [
    "function iteration_f(ξ,η,a,b)\n",
    "    Ā,A = area_average(a, b, ξ, η)  \n",
    "    x = Ā\n",
    "    I, = size(a)\n",
    "    r = zeros(Float64,I-1)\n",
    "    for i = 1:I  \n",
    "        f2,r = iteration_r(ξ,η,a,b,x + 1.e-6)\n",
    "        f1,r = iteration_r(ξ,η,a,b,x)\n",
    "         f¹ = (f2-f1)/1.e-6\n",
    "        x -= f1/f¹\n",
    "        @show f1\n",
    "    end\n",
    "    A = zeros(Float64,I-1)\n",
    "    \n",
    "    for i = 1:I-1\n",
    "        x_local[1] = ξ[i]\n",
    "        y_local[1] = η[i]\n",
    "        x_local[2] = ξ[i+1]\n",
    "        y_local[2] = η[i+1]\n",
    "        if i ==1\n",
    "            x_local[4] = a[1]\n",
    "            y_local[4] = b[1]\n",
    "        else\n",
    "            x_local[4],y_local[4] = r_to_xy(a,b,r[i-1])\n",
    "        end \n",
    "        if i ==I-1\n",
    "            x_local[3] = a[I]\n",
    "            y_local[3] = b[I] \n",
    "        else\n",
    "            x_local[3],y_local[3] = r_to_xy(a,b,r[i])\n",
    "        end \n",
    "        A[i] = area4(x_local, y_local) \n",
    "    end\n",
    "    return r,A\n",
    "    \n",
    "end"
   ]
  },
  {
   "cell_type": "code",
   "execution_count": 9,
   "metadata": {},
   "outputs": [
    {
     "data": {
      "text/plain": [
       "f¹ (generic function with 1 method)"
      ]
     },
     "execution_count": 9,
     "metadata": {},
     "output_type": "execute_result"
    }
   ],
   "source": [
    "f¹(x_local,y_local,a,b,r1,Ā) = Derivative(r1->farea(x_local,y_local,a,b,r1,Ā),r1)"
   ]
  },
  {
   "cell_type": "code",
   "execution_count": 10,
   "metadata": {},
   "outputs": [
    {
     "data": {
      "text/plain": [
       "Derivative (generic function with 1 method)"
      ]
     },
     "execution_count": 10,
     "metadata": {},
     "output_type": "execute_result"
    }
   ],
   "source": [
    "function Derivative(f,x)\n",
    "    ϵ₀ = 1e-8\n",
    "    if abs(x) >= ϵ₀\n",
    "        ϵ= ϵ₀*x\n",
    "    else\n",
    "        ϵ =ϵ₀\n",
    "    end\n",
    "    f¹(x) = (f(x+ϵ)-f(x))/ϵ\n",
    "    return f¹(x)\n",
    "end"
   ]
  },
  {
   "cell_type": "code",
   "execution_count": 11,
   "metadata": {},
   "outputs": [
    {
     "data": {
      "text/plain": [
       "farea (generic function with 1 method)"
      ]
     },
     "execution_count": 11,
     "metadata": {},
     "output_type": "execute_result"
    }
   ],
   "source": [
    "function farea(x,y,a,b,r,Ā)\n",
    "    \n",
    "    x[3],y[3] = r_to_xy(a,b,r)\n",
    "    return area4(x,y) -Ā\n",
    "end\n"
   ]
  },
  {
   "cell_type": "code",
   "execution_count": 12,
   "metadata": {},
   "outputs": [
    {
     "ename": "UndefVarError",
     "evalue": "UndefVarError: ξ not defined",
     "output_type": "error",
     "traceback": [
      "UndefVarError: ξ not defined",
      "",
      "Stacktrace:",
      " [1] top-level scope at In[12]:1"
     ]
    }
   ],
   "source": [
    "r,A=iteration_f(ξ, η, a, b) "
   ]
  },
  {
   "cell_type": "code",
   "execution_count": null,
   "metadata": {},
   "outputs": [],
   "source": []
  },
  {
   "cell_type": "code",
   "execution_count": 13,
   "metadata": {},
   "outputs": [
    {
     "name": "stderr",
     "output_type": "stream",
     "text": [
      "┌ Info: Recompiling stale cache file /home/bfly/.juliapro/JuliaPro_v1.1.1.1/compiled/v1.1/PGFPlotsX/ckKEQ.ji for PGFPlotsX [8314cec4-20b6-5062-9cdb-752b83310925]\n",
      "└ @ Base loading.jl:1184\n"
     ]
    }
   ],
   "source": [
    "#Pkg.add(\"PGFPlotsX\")\n",
    "using PGFPlotsX"
   ]
  },
  {
   "cell_type": "code",
   "execution_count": 14,
   "metadata": {},
   "outputs": [
    {
     "data": {
      "image/png": "[encoded data removed]",
      "image/svg+xml": [
       "<?xml version=\"1.0\" encoding=\"UTF-8\"?>\n",
       "<svg xmlns=\"http://www.w3.org/2000/svg\" xmlns:xlink=\"http://www.w3.org/1999/xlink\" width=\"206.292pt\" height=\"174.855pt\" viewBox=\"0 0 206.292 174.855\" version=\"1.2\">\n",
       "<defs>\n",
       "<g>\n",
       "<symbol overflow=\"visible\" id=\"glyph-1566443438862760-0-0\">\n",
       "<path style=\"stroke:none;\" d=\"\"/>\n",
       "</symbol>\n",
       "<symbol overflow=\"visible\" id=\"glyph-1566443438862760-0-1\">\n",
       "<path style=\"stroke:none;\" d=\"M 2.921875 -6.34375 C 2.921875 -6.59375 2.921875 -6.609375 2.6875 -6.609375 C 2.078125 -5.96875 1.203125 -5.96875 0.890625 -5.96875 L 0.890625 -5.671875 C 1.078125 -5.671875 1.671875 -5.671875 2.1875 -5.921875 L 2.1875 -0.78125 C 2.1875 -0.421875 2.15625 -0.3125 1.265625 -0.3125 L 0.9375 -0.3125 L 0.9375 0 C 1.296875 -0.03125 2.15625 -0.03125 2.546875 -0.03125 C 2.953125 -0.03125 3.8125 -0.03125 4.15625 0 L 4.15625 -0.3125 L 3.84375 -0.3125 C 2.953125 -0.3125 2.921875 -0.421875 2.921875 -0.78125 Z M 2.921875 -6.34375 \"/>\n",
       "</symbol>\n",
       "<symbol overflow=\"visible\" id=\"glyph-1566443438862760-0-2\">\n",
       "<path style=\"stroke:none;\" d=\"M 1.265625 -0.765625 L 2.3125 -1.78125 C 3.859375 -3.15625 4.453125 -3.6875 4.453125 -4.6875 C 4.453125 -5.8125 3.5625 -6.609375 2.34375 -6.609375 C 1.234375 -6.609375 0.5 -5.6875 0.5 -4.8125 C 0.5 -4.25 0.984375 -4.25 1.015625 -4.25 C 1.1875 -4.25 1.53125 -4.375 1.53125 -4.78125 C 1.53125 -5.046875 1.359375 -5.296875 1.015625 -5.296875 C 0.9375 -5.296875 0.90625 -5.296875 0.890625 -5.28125 C 1.109375 -5.9375 1.640625 -6.296875 2.21875 -6.296875 C 3.125 -6.296875 3.546875 -5.5 3.546875 -4.6875 C 3.546875 -3.890625 3.0625 -3.109375 2.515625 -2.484375 L 0.609375 -0.359375 C 0.5 -0.265625 0.5 -0.234375 0.5 0 L 4.171875 0 L 4.453125 -1.71875 L 4.203125 -1.71875 C 4.15625 -1.421875 4.09375 -0.984375 3.984375 -0.84375 C 3.921875 -0.765625 3.265625 -0.765625 3.046875 -0.765625 Z M 1.265625 -0.765625 \"/>\n",
       "</symbol>\n",
       "<symbol overflow=\"visible\" id=\"glyph-1566443438862760-0-3\">\n",
       "<path style=\"stroke:none;\" d=\"M 2.875 -3.5 C 3.6875 -3.765625 4.265625 -4.453125 4.265625 -5.234375 C 4.265625 -6.046875 3.390625 -6.609375 2.4375 -6.609375 C 1.4375 -6.609375 0.6875 -6.015625 0.6875 -5.265625 C 0.6875 -4.9375 0.90625 -4.75 1.1875 -4.75 C 1.5 -4.75 1.703125 -4.953125 1.703125 -5.25 C 1.703125 -5.75 1.234375 -5.75 1.078125 -5.75 C 1.390625 -6.234375 2.046875 -6.359375 2.40625 -6.359375 C 2.8125 -6.359375 3.359375 -6.140625 3.359375 -5.25 C 3.359375 -5.125 3.328125 -4.546875 3.078125 -4.125 C 2.78125 -3.640625 2.4375 -3.609375 2.1875 -3.609375 C 2.109375 -3.59375 1.875 -3.578125 1.8125 -3.578125 C 1.71875 -3.5625 1.65625 -3.546875 1.65625 -3.453125 C 1.65625 -3.34375 1.71875 -3.34375 1.890625 -3.34375 L 2.328125 -3.34375 C 3.140625 -3.34375 3.515625 -2.671875 3.515625 -1.703125 C 3.515625 -0.34375 2.828125 -0.0625 2.390625 -0.0625 C 1.96875 -0.0625 1.21875 -0.234375 0.875 -0.8125 C 1.21875 -0.765625 1.53125 -0.984375 1.53125 -1.359375 C 1.53125 -1.71875 1.265625 -1.921875 0.96875 -1.921875 C 0.734375 -1.921875 0.421875 -1.78125 0.421875 -1.34375 C 0.421875 -0.4375 1.34375 0.21875 2.421875 0.21875 C 3.625 0.21875 4.53125 -0.6875 4.53125 -1.703125 C 4.53125 -2.515625 3.90625 -3.28125 2.875 -3.5 Z M 2.875 -3.5 \"/>\n",
       "</symbol>\n",
       "<symbol overflow=\"visible\" id=\"glyph-1566443438862760-0-4\">\n",
       "<path style=\"stroke:none;\" d=\"M 2.921875 -1.640625 L 2.921875 -0.78125 C 2.921875 -0.421875 2.890625 -0.3125 2.15625 -0.3125 L 1.953125 -0.3125 L 1.953125 0 C 2.359375 -0.03125 2.875 -0.03125 3.296875 -0.03125 C 3.703125 -0.03125 4.234375 -0.03125 4.640625 0 L 4.640625 -0.3125 L 4.4375 -0.3125 C 3.703125 -0.3125 3.6875 -0.421875 3.6875 -0.78125 L 3.6875 -1.640625 L 4.671875 -1.640625 L 4.671875 -1.9375 L 3.6875 -1.9375 L 3.6875 -6.453125 C 3.6875 -6.65625 3.6875 -6.71875 3.515625 -6.71875 C 3.4375 -6.71875 3.40625 -6.71875 3.328125 -6.59375 L 0.28125 -1.9375 L 0.28125 -1.640625 Z M 2.96875 -1.9375 L 0.5625 -1.9375 L 2.96875 -5.640625 Z M 2.96875 -1.9375 \"/>\n",
       "</symbol>\n",
       "<symbol overflow=\"visible\" id=\"glyph-1566443438862760-0-5\">\n",
       "<path style=\"stroke:none;\" d=\"M 4.453125 -2 C 4.453125 -3.171875 3.640625 -4.171875 2.5625 -4.171875 C 2.09375 -4.171875 1.671875 -4.015625 1.3125 -3.65625 L 1.3125 -5.59375 C 1.515625 -5.53125 1.828125 -5.46875 2.15625 -5.46875 C 3.375 -5.46875 4.0625 -6.375 4.0625 -6.5 C 4.0625 -6.5625 4.03125 -6.609375 3.96875 -6.609375 C 3.953125 -6.609375 3.9375 -6.609375 3.890625 -6.578125 C 3.6875 -6.484375 3.203125 -6.296875 2.546875 -6.296875 C 2.140625 -6.296875 1.6875 -6.359375 1.21875 -6.5625 C 1.140625 -6.59375 1.125 -6.59375 1.09375 -6.59375 C 1 -6.59375 1 -6.515625 1 -6.359375 L 1 -3.421875 C 1 -3.25 1 -3.171875 1.140625 -3.171875 C 1.203125 -3.171875 1.234375 -3.1875 1.265625 -3.25 C 1.375 -3.40625 1.75 -3.953125 2.546875 -3.953125 C 3.0625 -3.953125 3.3125 -3.5 3.390625 -3.3125 C 3.546875 -2.953125 3.578125 -2.5625 3.578125 -2.0625 C 3.578125 -1.71875 3.578125 -1.125 3.328125 -0.703125 C 3.09375 -0.3125 2.734375 -0.0625 2.265625 -0.0625 C 1.546875 -0.0625 0.984375 -0.578125 0.8125 -1.171875 C 0.84375 -1.15625 0.875 -1.15625 0.984375 -1.15625 C 1.3125 -1.15625 1.484375 -1.40625 1.484375 -1.640625 C 1.484375 -1.875 1.3125 -2.125 0.984375 -2.125 C 0.84375 -2.125 0.5 -2.046875 0.5 -1.59375 C 0.5 -0.75 1.1875 0.21875 2.296875 0.21875 C 3.4375 0.21875 4.453125 -0.734375 4.453125 -2 Z M 4.453125 -2 \"/>\n",
       "</symbol>\n",
       "<symbol overflow=\"visible\" id=\"glyph-1566443438862760-0-6\">\n",
       "<path style=\"stroke:none;\" d=\"M 1.3125 -3.25 L 1.3125 -3.5 C 1.3125 -6 2.546875 -6.359375 3.046875 -6.359375 C 3.28125 -6.359375 3.703125 -6.296875 3.921875 -5.96875 C 3.765625 -5.96875 3.375 -5.96875 3.375 -5.515625 C 3.375 -5.203125 3.609375 -5.0625 3.828125 -5.0625 C 3.984375 -5.0625 4.28125 -5.15625 4.28125 -5.53125 C 4.28125 -6.125 3.84375 -6.609375 3.03125 -6.609375 C 1.75 -6.609375 0.421875 -5.328125 0.421875 -3.140625 C 0.421875 -0.484375 1.5625 0.21875 2.484375 0.21875 C 3.59375 0.21875 4.53125 -0.71875 4.53125 -2.03125 C 4.53125 -3.28125 3.65625 -4.234375 2.546875 -4.234375 C 1.875 -4.234375 1.515625 -3.734375 1.3125 -3.25 Z M 2.484375 -0.0625 C 1.859375 -0.0625 1.5625 -0.65625 1.515625 -0.796875 C 1.328125 -1.265625 1.328125 -2.0625 1.328125 -2.25 C 1.328125 -3.015625 1.640625 -4.015625 2.546875 -4.015625 C 2.703125 -4.015625 3.15625 -4.015625 3.46875 -3.390625 C 3.640625 -3.03125 3.640625 -2.515625 3.640625 -2.03125 C 3.640625 -1.5625 3.640625 -1.0625 3.46875 -0.703125 C 3.171875 -0.109375 2.71875 -0.0625 2.484375 -0.0625 Z M 2.484375 -0.0625 \"/>\n",
       "</symbol>\n",
       "</g>\n",
       "<clipPath id=\"clip-1566443438862760-1\">\n",
       "  <path d=\"M 0 0.226562 L 205.585938 0.226562 L 205.585938 174.484375 L 0 174.484375 Z M 0 0.226562 \"/>\n",
       "</clipPath>\n",
       "<clipPath id=\"clip-1566443438862760-2\">\n",
       "  <path d=\"M 27 0.226562 L 190 0.226562 L 190 162 L 27 162 Z M 27 0.226562 \"/>\n",
       "</clipPath>\n",
       "<clipPath id=\"clip-1566443438862760-3\">\n",
       "  <path d=\"M 11 13 L 205.585938 13 L 205.585938 148 L 11 148 Z M 11 13 \"/>\n",
       "</clipPath>\n",
       "<clipPath id=\"clip-1566443438862760-4\">\n",
       "  <path d=\"M 11 0.226562 L 205.585938 0.226562 L 205.585938 162 L 11 162 Z M 11 0.226562 \"/>\n",
       "</clipPath>\n",
       "</defs>\n",
       "<g id=\"surface1\">\n",
       "<g clip-path=\"url(#clip-1566443438862760-1)\" clip-rule=\"nonzero\">\n",
       "<path style=\" stroke:none;fill-rule:nonzero;fill:rgb(100%,100%,100%);fill-opacity:1;\" d=\"M 0 174.484375 L 206.359375 174.484375 L 206.359375 -0.425781 L 0 -0.425781 Z M 0 174.484375 \"/>\n",
       "</g>\n",
       "<g clip-path=\"url(#clip-1566443438862760-2)\" clip-rule=\"nonzero\">\n",
       "<path style=\"fill:none;stroke-width:0.19925;stroke-linecap:butt;stroke-linejoin:miter;stroke:rgb(50%,50%,50%);stroke-opacity:1;stroke-miterlimit:10;\" d=\"M 0.00178401 -13.451459 L 0.00178401 -9.198632 M 32.378146 -13.451459 L 32.378146 -9.198632 M 64.758427 -13.451459 L 64.758427 -9.198632 M 97.134788 -13.451459 L 97.134788 -9.198632 M 129.515069 -13.451459 L 129.515069 -9.198632 M 161.895351 -13.451459 L 161.895351 -9.198632 M 0.00178401 147.948231 L 0.00178401 143.695404 M 32.378146 147.948231 L 32.378146 143.695404 M 64.758427 147.948231 L 64.758427 143.695404 M 97.134788 147.948231 L 97.134788 143.695404 M 129.515069 147.948231 L 129.515069 143.695404 M 161.895351 147.948231 L 161.895351 143.695404 \" transform=\"matrix(0.99658,0,0,-0.99658,27.916191,147.86408)\"/>\n",
       "</g>\n",
       "<g clip-path=\"url(#clip-1566443438862760-3)\" clip-rule=\"nonzero\">\n",
       "<path style=\"fill:none;stroke-width:0.19925;stroke-linecap:butt;stroke-linejoin:miter;stroke:rgb(50%,50%,50%);stroke-opacity:1;stroke-miterlimit:10;\" d=\"M -16.190316 0.000801433 L -11.937489 0.000801433 M -16.190316 44.833831 L -11.937489 44.833831 M -16.190316 89.662941 L -11.937489 89.662941 M -16.190316 134.49597 L -11.937489 134.49597 M 178.083531 0.000801433 L 173.830704 0.000801433 M 178.083531 44.833831 L 173.830704 44.833831 M 178.083531 89.662941 L 173.830704 89.662941 M 178.083531 134.49597 L 173.830704 134.49597 \" transform=\"matrix(0.99658,0,0,-0.99658,27.916191,147.86408)\"/>\n",
       "</g>\n",
       "<g clip-path=\"url(#clip-1566443438862760-4)\" clip-rule=\"nonzero\">\n",
       "<path style=\"fill:none;stroke-width:0.3985;stroke-linecap:butt;stroke-linejoin:miter;stroke:rgb(0%,0%,0%);stroke-opacity:1;stroke-miterlimit:10;\" d=\"M -16.190316 -13.451459 L -16.190316 147.948231 L 178.083531 147.948231 L 178.083531 -13.451459 Z M -16.190316 -13.451459 \" transform=\"matrix(0.99658,0,0,-0.99658,27.916191,147.86408)\"/>\n",
       "</g>\n",
       "<g style=\"fill:rgb(0%,0%,0%);fill-opacity:1;\">\n",
       "  <use xlink:href=\"#glyph-1566443438862760-0-1\" x=\"25.433711\" y=\"171.174079\"/>\n",
       "</g>\n",
       "<g style=\"fill:rgb(0%,0%,0%);fill-opacity:1;\">\n",
       "  <use xlink:href=\"#glyph-1566443438862760-0-2\" x=\"57.700969\" y=\"171.174079\"/>\n",
       "</g>\n",
       "<g style=\"fill:rgb(0%,0%,0%);fill-opacity:1;\">\n",
       "  <use xlink:href=\"#glyph-1566443438862760-0-3\" x=\"89.969223\" y=\"171.174079\"/>\n",
       "</g>\n",
       "<g style=\"fill:rgb(0%,0%,0%);fill-opacity:1;\">\n",
       "  <use xlink:href=\"#glyph-1566443438862760-0-4\" x=\"122.236481\" y=\"171.174079\"/>\n",
       "</g>\n",
       "<g style=\"fill:rgb(0%,0%,0%);fill-opacity:1;\">\n",
       "  <use xlink:href=\"#glyph-1566443438862760-0-5\" x=\"154.503739\" y=\"171.174079\"/>\n",
       "</g>\n",
       "<g style=\"fill:rgb(0%,0%,0%);fill-opacity:1;\">\n",
       "  <use xlink:href=\"#glyph-1566443438862760-0-6\" x=\"186.770997\" y=\"171.174079\"/>\n",
       "</g>\n",
       "<g style=\"fill:rgb(0%,0%,0%);fill-opacity:1;\">\n",
       "  <use xlink:href=\"#glyph-1566443438862760-0-1\" x=\"3.309641\" y=\"151.063101\"/>\n",
       "</g>\n",
       "<g style=\"fill:rgb(0%,0%,0%);fill-opacity:1;\">\n",
       "  <use xlink:href=\"#glyph-1566443438862760-0-2\" x=\"3.309641\" y=\"106.385436\"/>\n",
       "</g>\n",
       "<g style=\"fill:rgb(0%,0%,0%);fill-opacity:1;\">\n",
       "  <use xlink:href=\"#glyph-1566443438862760-0-3\" x=\"3.309641\" y=\"61.706774\"/>\n",
       "</g>\n",
       "<g style=\"fill:rgb(0%,0%,0%);fill-opacity:1;\">\n",
       "  <use xlink:href=\"#glyph-1566443438862760-0-4\" x=\"3.309641\" y=\"17.029109\"/>\n",
       "</g>\n",
       "<path style=\"fill:none;stroke-width:0.3985;stroke-linecap:butt;stroke-linejoin:miter;stroke:rgb(100%,0%,0%);stroke-opacity:1;stroke-miterlimit:10;\" d=\"M 129.515069 0.000801433 L 161.895351 44.833831 \" transform=\"matrix(0.99658,0,0,-0.99658,27.916191,147.86408)\"/>\n",
       "<path style=\"fill:none;stroke-width:0.3985;stroke-linecap:butt;stroke-linejoin:miter;stroke:rgb(44.999695%,29.998779%,14.99939%);stroke-opacity:1;stroke-miterlimit:10;\" d=\"M 129.515069 44.833831 L 161.895351 89.66686 \" transform=\"matrix(0.99658,0,0,-0.99658,27.916191,147.86408)\"/>\n",
       "<path style=\"fill-rule:nonzero;fill:rgb(0%,0%,79.998779%);fill-opacity:1;stroke-width:0.3985;stroke-linecap:butt;stroke-linejoin:miter;stroke:rgb(0%,0%,100%);stroke-opacity:1;stroke-miterlimit:10;\" d=\"M 1.992969 89.66686 C 1.992969 90.764364 1.099288 91.658046 0.00178401 91.658046 C -1.099639 91.658046 -1.993321 90.764364 -1.993321 89.66686 C -1.993321 88.565437 -1.099639 87.671755 0.00178401 87.671755 C 1.099288 87.671755 1.992969 88.565437 1.992969 89.66686 Z M 1.992969 89.66686 \" transform=\"matrix(0.99658,0,0,-0.99658,27.916191,147.86408)\"/>\n",
       "<path style=\"fill-rule:nonzero;fill:rgb(0%,0%,79.998779%);fill-opacity:1;stroke-width:0.3985;stroke-linecap:butt;stroke-linejoin:miter;stroke:rgb(0%,0%,100%);stroke-opacity:1;stroke-miterlimit:10;\" d=\"M 34.373251 134.49597 C 34.373251 135.597394 33.479569 136.491075 32.378146 136.491075 C 31.276722 136.491075 30.38696 135.597394 30.38696 134.49597 C 30.38696 133.398466 31.276722 132.504785 32.378146 132.504785 C 33.479569 132.504785 34.373251 133.398466 34.373251 134.49597 Z M 34.373251 134.49597 \" transform=\"matrix(0.99658,0,0,-0.99658,27.916191,147.86408)\"/>\n",
       "<path style=\"fill-rule:nonzero;fill:rgb(79.998779%,0%,0%);fill-opacity:1;stroke-width:0.3985;stroke-linecap:butt;stroke-linejoin:miter;stroke:rgb(100%,0%,0%);stroke-opacity:1;stroke-miterlimit:10;\" d=\"M 127.523884 -1.994304 L 131.510175 -1.994304 L 131.510175 1.991987 L 127.523884 1.991987 Z M 127.523884 -1.994304 \" transform=\"matrix(0.99658,0,0,-0.99658,27.916191,147.86408)\"/>\n",
       "<path style=\"fill-rule:nonzero;fill:rgb(79.998779%,0%,0%);fill-opacity:1;stroke-width:0.3985;stroke-linecap:butt;stroke-linejoin:miter;stroke:rgb(100%,0%,0%);stroke-opacity:1;stroke-miterlimit:10;\" d=\"M 159.904165 42.838726 L 163.886536 42.838726 L 163.886536 46.825016 L 159.904165 46.825016 Z M 159.904165 42.838726 \" transform=\"matrix(0.99658,0,0,-0.99658,27.916191,147.86408)\"/>\n",
       "<path style=\"fill-rule:nonzero;fill:rgb(59.999084%,39.99939%,19.999695%);fill-opacity:1;stroke-width:0.3985;stroke-linecap:butt;stroke-linejoin:miter;stroke:rgb(44.999695%,29.998779%,14.99939%);stroke-opacity:1;stroke-miterlimit:10;\" d=\"M 131.510175 44.833831 C 131.510175 45.931335 130.616493 46.825016 129.515069 46.825016 C 128.413646 46.825016 127.523884 45.931335 127.523884 44.833831 C 127.523884 43.732407 128.413646 42.838726 129.515069 42.838726 C 130.616493 42.838726 131.510175 43.732407 131.510175 44.833831 Z M 128.107913 43.422755 L 130.926146 46.240988 M 128.107913 46.240988 L 130.926146 43.422755 \" transform=\"matrix(0.99658,0,0,-0.99658,27.916191,147.86408)\"/>\n",
       "<path style=\"fill-rule:nonzero;fill:rgb(59.999084%,39.99939%,19.999695%);fill-opacity:1;stroke-width:0.3985;stroke-linecap:butt;stroke-linejoin:miter;stroke:rgb(44.999695%,29.998779%,14.99939%);stroke-opacity:1;stroke-miterlimit:10;\" d=\"M 163.886536 89.66686 C 163.886536 90.764364 162.996774 91.658046 161.895351 91.658046 C 160.793927 91.658046 159.904165 90.764364 159.904165 89.66686 C 159.904165 88.565437 160.793927 87.671755 161.895351 87.671755 C 162.996774 87.671755 163.886536 88.565437 163.886536 89.66686 Z M 160.484274 88.255784 L 163.302507 91.074017 M 160.484274 91.074017 L 163.302507 88.255784 \" transform=\"matrix(0.99658,0,0,-0.99658,27.916191,147.86408)\"/>\n",
       "</g>\n",
       "</svg>\n",
       "\n"
      ],
      "text/plain": [
       "TikzPicture(PGFPlotsX.Options(OrderedCollections.OrderedDict{Any,Any}(), false), Union{String, TikzElement}[Axis(Options(OrderedCollections.OrderedDict{Any,Any}(), false), Any[Plot(false, true, Options(OrderedCollections.OrderedDict{Any,Any}(\"only_marks\"=>nothing), true), Table(Options(OrderedCollections.OrderedDict{Any,Any}(), false), TableData([1 3; 2 4], [\"x\", \"y\"], Int64[], true)), Any[]), Plot(false, true, Options(OrderedCollections.OrderedDict{Any,Any}(), false), Table(Options(OrderedCollections.OrderedDict{Any,Any}(), false), TableData([5 1; 6 2], [\"x\", \"y\"], Int64[], true)), Any[]), Plot(false, true, Options(OrderedCollections.OrderedDict{Any,Any}(), false), Table(Options(OrderedCollections.OrderedDict{Any,Any}(), false), TableData([5 2; 6 3], [\"x\", \"y\"], Int64[], true)), Any[])])])"
      ]
     },
     "execution_count": 14,
     "metadata": {},
     "output_type": "execute_result"
    }
   ],
   "source": [
    "@pgf PGFPlotsX.TikzPicture(\n",
    "        Axis(\n",
    "            PlotInc({ only_marks },\n",
    "                Table(; x = 1:2, y = 3:4)),\n",
    "            PlotInc(\n",
    "                Table(; x = 5:6, y = 1:2)),\n",
    "        PlotInc(\n",
    "                Table(; x = 5:6, y = 2:3))))"
   ]
  },
  {
   "cell_type": "code",
   "execution_count": 15,
   "metadata": {},
   "outputs": [
    {
     "ename": "LoadError",
     "evalue": "UndefVarError: @L_str not defined",
     "output_type": "error",
     "traceback": [
      "UndefVarError: @L_str not defined",
      ""
     ]
    }
   ],
   "source": [
    "a = 2\n",
    "tp = TikzPicture(L\"\"\"\n",
    "\\draw (a,0) -- (10,10);\n",
    "\\draw (10,0) -- (0,10);\n",
    "\\node at (5,5) {tikz $\\sqrt{\\pi}$};\"\"\"\n",
    ", options=\"scale=0.25\", preamble=\"\")"
   ]
  },
  {
   "cell_type": "code",
   "execution_count": 16,
   "metadata": {},
   "outputs": [
    {
     "ename": "UndefVarError",
     "evalue": "UndefVarError: ξ not defined",
     "output_type": "error",
     "traceback": [
      "UndefVarError: ξ not defined",
      "",
      "Stacktrace:",
      " [1] top-level scope at In[16]:3"
     ]
    }
   ],
   "source": [
    "        x_local= zeros(Float64,4)\n",
    "        y_local= zeros(Float64,4)\n",
    "        x_local[1] = ξ[9]\n",
    "        y_local[1] = η[9]\n",
    "        x_local[2] = ξ[10] \n",
    "        y_local[2] = η[10]\n",
    "\n",
    "        x_local[3] = a[10]\n",
    "        y_local[3] = b[10]\n",
    "\n",
    "        x_local[4],y_local[4] = r_to_xy(a,b,r[9])\n",
    "        Ā = area_average(a, b, ξ, η)\n",
    "        f = area4(x_local,y_local) - Ā"
   ]
  },
  {
   "cell_type": "code",
   "execution_count": 17,
   "metadata": {},
   "outputs": [
    {
     "name": "stdout",
     "output_type": "stream",
     "text": [
      "\u001b[32m\u001b[1m  Updating\u001b[22m\u001b[39m registry at `~/.juliapro/JuliaPro_v1.1.1.1/registries/JuliaPro`\n",
      "\u001b[32m\u001b[1m  Updating\u001b[22m\u001b[39m git-repo `https://pkg.juliacomputing.com//registry/JuliaPro`\n",
      "\u001b[?25l\u001b[2K\u001b[?25h\u001b[32m\u001b[1m Resolving\u001b[22m\u001b[39m package versions...\n",
      "\u001b[32m\u001b[1m  Updating\u001b[22m\u001b[39m `~/.juliapro/JuliaPro_v1.1.1.1/environments/v1.1/Project.toml`\n",
      "\u001b[90m [no changes]\u001b[39m\n",
      "\u001b[32m\u001b[1m  Updating\u001b[22m\u001b[39m `~/.juliapro/JuliaPro_v1.1.1.1/environments/v1.1/Manifest.toml`\n",
      "\u001b[90m [no changes]\u001b[39m\n"
     ]
    }
   ],
   "source": [
    "using Pkg\n",
    "Pkg.add(\"SymPy\")"
   ]
  },
  {
   "cell_type": "code",
   "execution_count": 18,
   "metadata": {},
   "outputs": [
    {
     "data": {
      "text/plain": [
       "3.87"
      ]
     },
     "execution_count": 18,
     "metadata": {},
     "output_type": "execute_result"
    }
   ],
   "source": [
    "0.7(4.5 - 2.4) + 2.4"
   ]
  },
  {
   "cell_type": "code",
   "execution_count": 19,
   "metadata": {},
   "outputs": [
    {
     "data": {
      "text/plain": [
       "4.29"
      ]
     },
     "execution_count": 19,
     "metadata": {},
     "output_type": "execute_result"
    }
   ],
   "source": [
    "0.3(4.5 - 4.2) +4.2"
   ]
  },
  {
   "cell_type": "code",
   "execution_count": 20,
   "metadata": {},
   "outputs": [
    {
     "data": {
      "text/plain": [
       "4.15"
      ]
     },
     "execution_count": 20,
     "metadata": {},
     "output_type": "execute_result"
    }
   ],
   "source": [
    "0.7(4- 4.5)+4.5"
   ]
  },
  {
   "cell_type": "code",
   "execution_count": 21,
   "metadata": {},
   "outputs": [
    {
     "data": {
      "text/plain": [
       "4.41"
      ]
     },
     "execution_count": 21,
     "metadata": {},
     "output_type": "execute_result"
    }
   ],
   "source": [
    "0.3(4.2 - 4.5)+ 4.5"
   ]
  },
  {
   "cell_type": "code",
   "execution_count": 22,
   "metadata": {},
   "outputs": [
    {
     "data": {
      "text/plain": [
       "1.14"
      ]
     },
     "execution_count": 22,
     "metadata": {},
     "output_type": "execute_result"
    }
   ],
   "source": [
    "0.3(2.4-0.6) +0.6"
   ]
  },
  {
   "cell_type": "code",
   "execution_count": 23,
   "metadata": {},
   "outputs": [
    {
     "data": {
      "text/plain": [
       "4.29"
      ]
     },
     "execution_count": 23,
     "metadata": {},
     "output_type": "execute_result"
    }
   ],
   "source": [
    "0.3(4.5 -4.2)+4.2"
   ]
  },
  {
   "cell_type": "code",
   "execution_count": 24,
   "metadata": {},
   "outputs": [],
   "source": [
    "c = Coordinates([1, 2, 3], [2, 4, 8]);"
   ]
  },
  {
   "cell_type": "code",
   "execution_count": 25,
   "metadata": {},
   "outputs": [
    {
     "data": {
      "image/png": "[encoded data removed]",
      "image/svg+xml": [
       "<?xml version=\"1.0\" encoding=\"UTF-8\"?>\n",
       "<svg xmlns=\"http://www.w3.org/2000/svg\" xmlns:xlink=\"http://www.w3.org/1999/xlink\" width=\"206.291pt\" height=\"174.85pt\" viewBox=\"0 0 206.291 174.85\" version=\"1.2\">\n",
       "<defs>\n",
       "<g>\n",
       "<symbol overflow=\"visible\" id=\"glyph-1566443438862761-0-0\">\n",
       "<path style=\"stroke:none;\" d=\"\"/>\n",
       "</symbol>\n",
       "<symbol overflow=\"visible\" id=\"glyph-1566443438862761-0-1\">\n",
       "<path style=\"stroke:none;\" d=\"M 2.921875 -6.34375 C 2.921875 -6.59375 2.921875 -6.609375 2.6875 -6.609375 C 2.078125 -5.96875 1.203125 -5.96875 0.890625 -5.96875 L 0.890625 -5.671875 C 1.078125 -5.671875 1.671875 -5.671875 2.1875 -5.921875 L 2.1875 -0.78125 C 2.1875 -0.421875 2.15625 -0.3125 1.265625 -0.3125 L 0.9375 -0.3125 L 0.9375 0 C 1.296875 -0.03125 2.15625 -0.03125 2.546875 -0.03125 C 2.953125 -0.03125 3.8125 -0.03125 4.15625 0 L 4.15625 -0.3125 L 3.84375 -0.3125 C 2.953125 -0.3125 2.921875 -0.421875 2.921875 -0.78125 Z M 2.921875 -6.34375 \"/>\n",
       "</symbol>\n",
       "<symbol overflow=\"visible\" id=\"glyph-1566443438862761-0-2\">\n",
       "<path style=\"stroke:none;\" d=\"M 4.453125 -2 C 4.453125 -3.171875 3.640625 -4.171875 2.5625 -4.171875 C 2.09375 -4.171875 1.671875 -4.015625 1.3125 -3.65625 L 1.3125 -5.59375 C 1.515625 -5.53125 1.828125 -5.46875 2.15625 -5.46875 C 3.375 -5.46875 4.0625 -6.375 4.0625 -6.5 C 4.0625 -6.5625 4.03125 -6.609375 3.96875 -6.609375 C 3.953125 -6.609375 3.9375 -6.609375 3.890625 -6.578125 C 3.6875 -6.484375 3.203125 -6.296875 2.546875 -6.296875 C 2.140625 -6.296875 1.6875 -6.359375 1.21875 -6.5625 C 1.140625 -6.59375 1.125 -6.59375 1.09375 -6.59375 C 1 -6.59375 1 -6.515625 1 -6.359375 L 1 -3.421875 C 1 -3.25 1 -3.171875 1.140625 -3.171875 C 1.203125 -3.171875 1.234375 -3.1875 1.265625 -3.25 C 1.375 -3.40625 1.75 -3.953125 2.546875 -3.953125 C 3.0625 -3.953125 3.3125 -3.5 3.390625 -3.3125 C 3.546875 -2.953125 3.578125 -2.5625 3.578125 -2.0625 C 3.578125 -1.71875 3.578125 -1.125 3.328125 -0.703125 C 3.09375 -0.3125 2.734375 -0.0625 2.265625 -0.0625 C 1.546875 -0.0625 0.984375 -0.578125 0.8125 -1.171875 C 0.84375 -1.15625 0.875 -1.15625 0.984375 -1.15625 C 1.3125 -1.15625 1.484375 -1.40625 1.484375 -1.640625 C 1.484375 -1.875 1.3125 -2.125 0.984375 -2.125 C 0.84375 -2.125 0.5 -2.046875 0.5 -1.59375 C 0.5 -0.75 1.1875 0.21875 2.296875 0.21875 C 3.4375 0.21875 4.453125 -0.734375 4.453125 -2 Z M 4.453125 -2 \"/>\n",
       "</symbol>\n",
       "<symbol overflow=\"visible\" id=\"glyph-1566443438862761-0-3\">\n",
       "<path style=\"stroke:none;\" d=\"M 1.265625 -0.765625 L 2.3125 -1.78125 C 3.859375 -3.15625 4.453125 -3.6875 4.453125 -4.6875 C 4.453125 -5.8125 3.5625 -6.609375 2.34375 -6.609375 C 1.234375 -6.609375 0.5 -5.6875 0.5 -4.8125 C 0.5 -4.25 0.984375 -4.25 1.015625 -4.25 C 1.1875 -4.25 1.53125 -4.375 1.53125 -4.78125 C 1.53125 -5.046875 1.359375 -5.296875 1.015625 -5.296875 C 0.9375 -5.296875 0.90625 -5.296875 0.890625 -5.28125 C 1.109375 -5.9375 1.640625 -6.296875 2.21875 -6.296875 C 3.125 -6.296875 3.546875 -5.5 3.546875 -4.6875 C 3.546875 -3.890625 3.0625 -3.109375 2.515625 -2.484375 L 0.609375 -0.359375 C 0.5 -0.265625 0.5 -0.234375 0.5 0 L 4.171875 0 L 4.453125 -1.71875 L 4.203125 -1.71875 C 4.15625 -1.421875 4.09375 -0.984375 3.984375 -0.84375 C 3.921875 -0.765625 3.265625 -0.765625 3.046875 -0.765625 Z M 1.265625 -0.765625 \"/>\n",
       "</symbol>\n",
       "<symbol overflow=\"visible\" id=\"glyph-1566443438862761-0-4\">\n",
       "<path style=\"stroke:none;\" d=\"M 2.875 -3.5 C 3.6875 -3.765625 4.265625 -4.453125 4.265625 -5.234375 C 4.265625 -6.046875 3.390625 -6.609375 2.4375 -6.609375 C 1.4375 -6.609375 0.6875 -6.015625 0.6875 -5.265625 C 0.6875 -4.9375 0.90625 -4.75 1.1875 -4.75 C 1.5 -4.75 1.703125 -4.953125 1.703125 -5.25 C 1.703125 -5.75 1.234375 -5.75 1.078125 -5.75 C 1.390625 -6.234375 2.046875 -6.359375 2.40625 -6.359375 C 2.8125 -6.359375 3.359375 -6.140625 3.359375 -5.25 C 3.359375 -5.125 3.328125 -4.546875 3.078125 -4.125 C 2.78125 -3.640625 2.4375 -3.609375 2.1875 -3.609375 C 2.109375 -3.59375 1.875 -3.578125 1.8125 -3.578125 C 1.71875 -3.5625 1.65625 -3.546875 1.65625 -3.453125 C 1.65625 -3.34375 1.71875 -3.34375 1.890625 -3.34375 L 2.328125 -3.34375 C 3.140625 -3.34375 3.515625 -2.671875 3.515625 -1.703125 C 3.515625 -0.34375 2.828125 -0.0625 2.390625 -0.0625 C 1.96875 -0.0625 1.21875 -0.234375 0.875 -0.8125 C 1.21875 -0.765625 1.53125 -0.984375 1.53125 -1.359375 C 1.53125 -1.71875 1.265625 -1.921875 0.96875 -1.921875 C 0.734375 -1.921875 0.421875 -1.78125 0.421875 -1.34375 C 0.421875 -0.4375 1.34375 0.21875 2.421875 0.21875 C 3.625 0.21875 4.53125 -0.6875 4.53125 -1.703125 C 4.53125 -2.515625 3.90625 -3.28125 2.875 -3.5 Z M 2.875 -3.5 \"/>\n",
       "</symbol>\n",
       "<symbol overflow=\"visible\" id=\"glyph-1566443438862761-0-5\">\n",
       "<path style=\"stroke:none;\" d=\"M 2.921875 -1.640625 L 2.921875 -0.78125 C 2.921875 -0.421875 2.890625 -0.3125 2.15625 -0.3125 L 1.953125 -0.3125 L 1.953125 0 C 2.359375 -0.03125 2.875 -0.03125 3.296875 -0.03125 C 3.703125 -0.03125 4.234375 -0.03125 4.640625 0 L 4.640625 -0.3125 L 4.4375 -0.3125 C 3.703125 -0.3125 3.6875 -0.421875 3.6875 -0.78125 L 3.6875 -1.640625 L 4.671875 -1.640625 L 4.671875 -1.9375 L 3.6875 -1.9375 L 3.6875 -6.453125 C 3.6875 -6.65625 3.6875 -6.71875 3.515625 -6.71875 C 3.4375 -6.71875 3.40625 -6.71875 3.328125 -6.59375 L 0.28125 -1.9375 L 0.28125 -1.640625 Z M 2.96875 -1.9375 L 0.5625 -1.9375 L 2.96875 -5.640625 Z M 2.96875 -1.9375 \"/>\n",
       "</symbol>\n",
       "<symbol overflow=\"visible\" id=\"glyph-1566443438862761-0-6\">\n",
       "<path style=\"stroke:none;\" d=\"M 1.3125 -3.25 L 1.3125 -3.5 C 1.3125 -6 2.546875 -6.359375 3.046875 -6.359375 C 3.28125 -6.359375 3.703125 -6.296875 3.921875 -5.96875 C 3.765625 -5.96875 3.375 -5.96875 3.375 -5.515625 C 3.375 -5.203125 3.609375 -5.0625 3.828125 -5.0625 C 3.984375 -5.0625 4.28125 -5.15625 4.28125 -5.53125 C 4.28125 -6.125 3.84375 -6.609375 3.03125 -6.609375 C 1.75 -6.609375 0.421875 -5.328125 0.421875 -3.140625 C 0.421875 -0.484375 1.5625 0.21875 2.484375 0.21875 C 3.59375 0.21875 4.53125 -0.71875 4.53125 -2.03125 C 4.53125 -3.28125 3.65625 -4.234375 2.546875 -4.234375 C 1.875 -4.234375 1.515625 -3.734375 1.3125 -3.25 Z M 2.484375 -0.0625 C 1.859375 -0.0625 1.5625 -0.65625 1.515625 -0.796875 C 1.328125 -1.265625 1.328125 -2.0625 1.328125 -2.25 C 1.328125 -3.015625 1.640625 -4.015625 2.546875 -4.015625 C 2.703125 -4.015625 3.15625 -4.015625 3.46875 -3.390625 C 3.640625 -3.03125 3.640625 -2.515625 3.640625 -2.03125 C 3.640625 -1.5625 3.640625 -1.0625 3.46875 -0.703125 C 3.171875 -0.109375 2.71875 -0.0625 2.484375 -0.0625 Z M 2.484375 -0.0625 \"/>\n",
       "</symbol>\n",
       "<symbol overflow=\"visible\" id=\"glyph-1566443438862761-0-7\">\n",
       "<path style=\"stroke:none;\" d=\"M 1.625 -4.53125 C 1.15625 -4.828125 1.125 -5.171875 1.125 -5.34375 C 1.125 -5.9375 1.765625 -6.359375 2.46875 -6.359375 C 3.1875 -6.359375 3.828125 -5.84375 3.828125 -5.125 C 3.828125 -4.5625 3.4375 -4.09375 2.84375 -3.734375 Z M 3.0625 -3.59375 C 3.78125 -3.953125 4.265625 -4.46875 4.265625 -5.125 C 4.265625 -6.046875 3.390625 -6.609375 2.484375 -6.609375 C 1.484375 -6.609375 0.6875 -5.875 0.6875 -4.953125 C 0.6875 -4.765625 0.703125 -4.328125 1.125 -3.859375 C 1.234375 -3.734375 1.59375 -3.5 1.84375 -3.328125 C 1.265625 -3.03125 0.421875 -2.484375 0.421875 -1.5 C 0.421875 -0.453125 1.421875 0.21875 2.46875 0.21875 C 3.59375 0.21875 4.53125 -0.609375 4.53125 -1.671875 C 4.53125 -2.03125 4.421875 -2.46875 4.046875 -2.890625 C 3.859375 -3.09375 3.703125 -3.1875 3.0625 -3.59375 Z M 2.078125 -3.171875 L 3.296875 -2.40625 C 3.578125 -2.21875 4.03125 -1.921875 4.03125 -1.3125 C 4.03125 -0.578125 3.296875 -0.0625 2.484375 -0.0625 C 1.625 -0.0625 0.90625 -0.671875 0.90625 -1.5 C 0.90625 -2.078125 1.234375 -2.703125 2.078125 -3.171875 Z M 2.078125 -3.171875 \"/>\n",
       "</symbol>\n",
       "<symbol overflow=\"visible\" id=\"glyph-1566443438862761-1-0\">\n",
       "<path style=\"stroke:none;\" d=\"\"/>\n",
       "</symbol>\n",
       "<symbol overflow=\"visible\" id=\"glyph-1566443438862761-1-1\">\n",
       "<path style=\"stroke:none;\" d=\"M 1.90625 -0.53125 C 1.90625 -0.8125 1.671875 -1.046875 1.375 -1.046875 C 1.09375 -1.046875 0.859375 -0.8125 0.859375 -0.53125 C 0.859375 -0.234375 1.09375 0 1.375 0 C 1.671875 0 1.90625 -0.234375 1.90625 -0.53125 Z M 1.90625 -0.53125 \"/>\n",
       "</symbol>\n",
       "</g>\n",
       "<clipPath id=\"clip-1566443438862761-1\">\n",
       "  <path d=\"M 0 0.226562 L 205.585938 0.226562 L 205.585938 174.476562 L 0 174.476562 Z M 0 0.226562 \"/>\n",
       "</clipPath>\n",
       "<clipPath id=\"clip-1566443438862761-2\">\n",
       "  <path d=\"M 27 0.226562 L 190 0.226562 L 190 162 L 27 162 Z M 27 0.226562 \"/>\n",
       "</clipPath>\n",
       "<clipPath id=\"clip-1566443438862761-3\">\n",
       "  <path d=\"M 11 13 L 205.585938 13 L 205.585938 148 L 11 148 Z M 11 13 \"/>\n",
       "</clipPath>\n",
       "<clipPath id=\"clip-1566443438862761-4\">\n",
       "  <path d=\"M 11 0.226562 L 205.585938 0.226562 L 205.585938 162 L 11 162 Z M 11 0.226562 \"/>\n",
       "</clipPath>\n",
       "<clipPath id=\"clip-1566443438862761-5\">\n",
       "  <path d=\"M 176 0.226562 L 203 0.226562 L 203 28 L 176 28 Z M 176 0.226562 \"/>\n",
       "</clipPath>\n",
       "</defs>\n",
       "<g id=\"surface1\">\n",
       "<g clip-path=\"url(#clip-1566443438862761-1)\" clip-rule=\"nonzero\">\n",
       "<path style=\" stroke:none;fill-rule:nonzero;fill:rgb(100%,100%,100%);fill-opacity:1;\" d=\"M 0 174.476562 L 206.355469 174.476562 L 206.355469 -0.429688 L 0 -0.429688 Z M 0 174.476562 \"/>\n",
       "</g>\n",
       "<g clip-path=\"url(#clip-1566443438862761-2)\" clip-rule=\"nonzero\">\n",
       "<path style=\"fill:none;stroke-width:0.19925;stroke-linecap:butt;stroke-linejoin:miter;stroke:rgb(50%,50%,50%);stroke-opacity:1;stroke-miterlimit:10;\" d=\"M 0.00191981 -13.450488 L 0.00191981 -9.19764 M 40.472568 -13.450488 L 40.472568 -9.19764 M 80.947136 -13.450488 L 80.947136 -9.19764 M 121.417784 -13.450488 L 121.417784 -9.19764 M 161.892352 -13.450488 L 161.892352 -9.19764 M 0.00191981 147.942145 L 0.00191981 143.689298 M 40.472568 147.942145 L 40.472568 143.689298 M 80.947136 147.942145 L 80.947136 143.689298 M 121.417784 147.942145 L 121.417784 143.689298 M 161.892352 147.942145 L 161.892352 143.689298 \" transform=\"matrix(0.996575,0,0,-0.996575,27.916056,147.857301)\"/>\n",
       "</g>\n",
       "<g clip-path=\"url(#clip-1566443438862761-3)\" clip-rule=\"nonzero\">\n",
       "<path style=\"fill:none;stroke-width:0.19925;stroke-linecap:butt;stroke-linejoin:miter;stroke:rgb(50%,50%,50%);stroke-opacity:1;stroke-miterlimit:10;\" d=\"M -16.190259 0.00183822 L -11.937411 0.00183822 M -16.190259 44.831165 L -11.937411 44.831165 M -16.190259 89.660492 L -11.937411 89.660492 M -16.190259 134.493739 L -11.937411 134.493739 M 178.080611 0.00183822 L 173.831683 0.00183822 M 178.080611 44.831165 L 173.831683 44.831165 M 178.080611 89.660492 L 173.831683 89.660492 M 178.080611 134.493739 L 173.831683 134.493739 \" transform=\"matrix(0.996575,0,0,-0.996575,27.916056,147.857301)\"/>\n",
       "</g>\n",
       "<g clip-path=\"url(#clip-1566443438862761-4)\" clip-rule=\"nonzero\">\n",
       "<path style=\"fill:none;stroke-width:0.3985;stroke-linecap:butt;stroke-linejoin:miter;stroke:rgb(0%,0%,0%);stroke-opacity:1;stroke-miterlimit:10;\" d=\"M -16.190259 -13.450488 L -16.190259 147.942145 L 178.080611 147.942145 L 178.080611 -13.450488 Z M -16.190259 -13.450488 \" transform=\"matrix(0.996575,0,0,-0.996575,27.916056,147.857301)\"/>\n",
       "</g>\n",
       "<g style=\"fill:rgb(0%,0%,0%);fill-opacity:1;\">\n",
       "  <use xlink:href=\"#glyph-1566443438862761-0-1\" x=\"25.433587\" y=\"171.166191\"/>\n",
       "</g>\n",
       "<g style=\"fill:rgb(0%,0%,0%);fill-opacity:1;\">\n",
       "  <use xlink:href=\"#glyph-1566443438862761-0-1\" x=\"61.906235\" y=\"171.166191\"/>\n",
       "</g>\n",
       "<g style=\"fill:rgb(0%,0%,0%);fill-opacity:1;\">\n",
       "  <use xlink:href=\"#glyph-1566443438862761-1-1\" x=\"66.870174\" y=\"171.166191\"/>\n",
       "</g>\n",
       "<g style=\"fill:rgb(0%,0%,0%);fill-opacity:1;\">\n",
       "  <use xlink:href=\"#glyph-1566443438862761-0-2\" x=\"69.628694\" y=\"171.166191\"/>\n",
       "</g>\n",
       "<g style=\"fill:rgb(0%,0%,0%);fill-opacity:1;\">\n",
       "  <use xlink:href=\"#glyph-1566443438862761-0-3\" x=\"106.101341\" y=\"171.166191\"/>\n",
       "</g>\n",
       "<g style=\"fill:rgb(0%,0%,0%);fill-opacity:1;\">\n",
       "  <use xlink:href=\"#glyph-1566443438862761-0-3\" x=\"142.573989\" y=\"171.166191\"/>\n",
       "</g>\n",
       "<g style=\"fill:rgb(0%,0%,0%);fill-opacity:1;\">\n",
       "  <use xlink:href=\"#glyph-1566443438862761-1-1\" x=\"147.537928\" y=\"171.166191\"/>\n",
       "</g>\n",
       "<g style=\"fill:rgb(0%,0%,0%);fill-opacity:1;\">\n",
       "  <use xlink:href=\"#glyph-1566443438862761-0-2\" x=\"150.296447\" y=\"171.166191\"/>\n",
       "</g>\n",
       "<g style=\"fill:rgb(0%,0%,0%);fill-opacity:1;\">\n",
       "  <use xlink:href=\"#glyph-1566443438862761-0-4\" x=\"186.769095\" y=\"171.166191\"/>\n",
       "</g>\n",
       "<g style=\"fill:rgb(0%,0%,0%);fill-opacity:1;\">\n",
       "  <use xlink:href=\"#glyph-1566443438862761-0-3\" x=\"3.309625\" y=\"151.056306\"/>\n",
       "</g>\n",
       "<g style=\"fill:rgb(0%,0%,0%);fill-opacity:1;\">\n",
       "  <use xlink:href=\"#glyph-1566443438862761-0-5\" x=\"3.309625\" y=\"106.379854\"/>\n",
       "</g>\n",
       "<g style=\"fill:rgb(0%,0%,0%);fill-opacity:1;\">\n",
       "  <use xlink:href=\"#glyph-1566443438862761-0-6\" x=\"3.309625\" y=\"61.703402\"/>\n",
       "</g>\n",
       "<g style=\"fill:rgb(0%,0%,0%);fill-opacity:1;\">\n",
       "  <use xlink:href=\"#glyph-1566443438862761-0-7\" x=\"3.309625\" y=\"17.026951\"/>\n",
       "</g>\n",
       "<path style=\"fill:none;stroke-width:0.79701;stroke-linecap:butt;stroke-linejoin:miter;stroke:rgb(0%,0%,100%);stroke-opacity:1;stroke-miterlimit:10;\" d=\"M 0.00191981 0.00183822 L 80.947136 44.831165 L 161.892352 134.48982 \" transform=\"matrix(0.996575,0,0,-0.996575,27.916056,147.857301)\"/>\n",
       "<path style=\" stroke:none;fill-rule:nonzero;fill:rgb(100%,100%,100%);fill-opacity:1;\" d=\"M 25.929688 147.855469 C 25.929688 148.953125 26.820312 149.84375 27.917969 149.84375 C 29.011719 149.84375 29.902344 148.953125 29.902344 147.855469 \"/>\n",
       "<path style=\"fill:none;stroke-width:0.79701;stroke-linecap:butt;stroke-linejoin:miter;stroke:rgb(0%,0%,100%);stroke-opacity:1;stroke-miterlimit:10;\" d=\"M -1.993195 0.00183822 L 1.993115 0.00183822 M 1.993115 0.00183822 C 1.993115 1.099347 1.099429 1.993033 0.00191981 1.993033 C -1.099509 1.993033 -1.993195 1.099347 -1.993195 0.00183822 C -1.993195 -1.099591 -1.099509 -1.993277 0.00191981 -1.993277 C 1.099429 -1.993277 1.993115 -1.099591 1.993115 0.00183822 Z M 1.993115 0.00183822 \" transform=\"matrix(0.996575,0,0,-0.996575,27.916056,147.857301)\"/>\n",
       "<path style=\" stroke:none;fill-rule:nonzero;fill:rgb(100%,100%,100%);fill-opacity:1;\" d=\"M 106.597656 103.179688 C 106.597656 104.277344 107.488281 105.167969 108.585938 105.167969 C 109.679688 105.167969 110.570312 104.277344 110.570312 103.179688 \"/>\n",
       "<path style=\"fill:none;stroke-width:0.79701;stroke-linecap:butt;stroke-linejoin:miter;stroke:rgb(0%,0%,100%);stroke-opacity:1;stroke-miterlimit:10;\" d=\"M 78.952021 44.831165 L 82.938331 44.831165 M 82.938331 44.831165 C 82.938331 45.932594 82.044645 46.82236 80.947136 46.82236 C 79.845707 46.82236 78.952021 45.932594 78.952021 44.831165 C 78.952021 43.729737 79.845707 42.836051 80.947136 42.836051 C 82.044645 42.836051 82.938331 43.729737 82.938331 44.831165 Z M 82.938331 44.831165 \" transform=\"matrix(0.996575,0,0,-0.996575,27.916056,147.857301)\"/>\n",
       "<path style=\" stroke:none;fill-rule:nonzero;fill:rgb(100%,100%,100%);fill-opacity:1;\" d=\"M 187.265625 13.828125 C 187.265625 14.921875 188.15625 15.8125 189.253906 15.8125 C 190.347656 15.8125 191.238281 14.921875 191.238281 13.828125 \"/>\n",
       "<g clip-path=\"url(#clip-1566443438862761-5)\" clip-rule=\"nonzero\">\n",
       "<path style=\"fill:none;stroke-width:0.79701;stroke-linecap:butt;stroke-linejoin:miter;stroke:rgb(0%,0%,100%);stroke-opacity:1;stroke-miterlimit:10;\" d=\"M 159.897237 134.48982 L 163.883547 134.48982 M 163.883547 134.48982 C 163.883547 135.591248 162.989861 136.484934 161.892352 136.484934 C 160.790923 136.484934 159.897237 135.591248 159.897237 134.48982 C 159.897237 133.39231 160.790923 132.498624 161.892352 132.498624 C 162.989861 132.498624 163.883547 133.39231 163.883547 134.48982 Z M 163.883547 134.48982 \" transform=\"matrix(0.996575,0,0,-0.996575,27.916056,147.857301)\"/>\n",
       "</g>\n",
       "</g>\n",
       "</svg>\n",
       "\n"
      ],
      "text/plain": [
       "Plot(false, true, PGFPlotsX.Options(OrderedCollections.OrderedDict{Any,Any}(\"thick\"=>nothing,\"mark\"=>\"halfcircle\"), true), Coordinates{2}(Union{Nothing, Coordinate{2}}[Coordinate{2}((1, 2), nothing, nothing, nothing, nothing), Coordinate{2}((2, 4), nothing, nothing, nothing, nothing), Coordinate{2}((3, 8), nothing, nothing, nothing, nothing)]), Any[])"
      ]
     },
     "execution_count": 25,
     "metadata": {},
     "output_type": "execute_result"
    }
   ],
   "source": [
    "p = @pgf PlotInc({\"thick\", \"mark\" => \"halfcircle\"},c )"
   ]
  },
  {
   "cell_type": "code",
   "execution_count": 26,
   "metadata": {},
   "outputs": [
    {
     "name": "stdout",
     "output_type": "stream",
     "text": [
      "\\addplot+[thick, mark={halfcircle}]\n",
      "    coordinates {\n",
      "        (1,2)\n",
      "        (2,4)\n",
      "        (3,8)\n",
      "    }\n",
      "    ;\n"
     ]
    }
   ],
   "source": [
    "print_tex(p)"
   ]
  },
  {
   "cell_type": "code",
   "execution_count": 27,
   "metadata": {},
   "outputs": [
    {
     "data": {
      "text/plain": [
       "5-element Array{Int64,1}:\n",
       " 2\n",
       " 3\n",
       " 4\n",
       " 5\n",
       " 6"
      ]
     },
     "execution_count": 27,
     "metadata": {},
     "output_type": "execute_result"
    }
   ],
   "source": [
    "x = [1,2,3,4,5]\n",
    "y = [2,3,4,5,6]"
   ]
  },
  {
   "cell_type": "code",
   "execution_count": 28,
   "metadata": {},
   "outputs": [
    {
     "data": {
      "text/plain": [
       "Coordinates{2}(Union{Nothing, Coordinate{2}}[Coordinate{2}((1, 2), nothing, nothing, nothing, nothing), Coordinate{2}((2, 3), nothing, nothing, nothing, nothing), Coordinate{2}((3, 4), nothing, nothing, nothing, nothing), Coordinate{2}((4, 5), nothing, nothing, nothing, nothing), Coordinate{2}((5, 6), nothing, nothing, nothing, nothing)])"
      ]
     },
     "execution_count": 28,
     "metadata": {},
     "output_type": "execute_result"
    }
   ],
   "source": [
    "c = Coordinates(x,y)"
   ]
  },
  {
   "cell_type": "code",
   "execution_count": 29,
   "metadata": {},
   "outputs": [
    {
     "data": {
      "image/png": "[encoded data removed]",
      "image/svg+xml": [
       "<?xml version=\"1.0\" encoding=\"UTF-8\"?>\n",
       "<svg xmlns=\"http://www.w3.org/2000/svg\" xmlns:xlink=\"http://www.w3.org/1999/xlink\" width=\"206.294pt\" height=\"174.853pt\" viewBox=\"0 0 206.294 174.853\" version=\"1.2\">\n",
       "<defs>\n",
       "<g>\n",
       "<symbol overflow=\"visible\" id=\"glyph-1566443438862762-0-0\">\n",
       "<path style=\"stroke:none;\" d=\"\"/>\n",
       "</symbol>\n",
       "<symbol overflow=\"visible\" id=\"glyph-1566443438862762-0-1\">\n",
       "<path style=\"stroke:none;\" d=\"M 2.921875 -6.34375 C 2.921875 -6.59375 2.921875 -6.609375 2.6875 -6.609375 C 2.078125 -5.96875 1.203125 -5.96875 0.890625 -5.96875 L 0.890625 -5.671875 C 1.078125 -5.671875 1.671875 -5.671875 2.1875 -5.921875 L 2.1875 -0.78125 C 2.1875 -0.421875 2.15625 -0.3125 1.265625 -0.3125 L 0.9375 -0.3125 L 0.9375 0 C 1.296875 -0.03125 2.15625 -0.03125 2.546875 -0.03125 C 2.953125 -0.03125 3.8125 -0.03125 4.15625 0 L 4.15625 -0.3125 L 3.84375 -0.3125 C 2.953125 -0.3125 2.921875 -0.421875 2.921875 -0.78125 Z M 2.921875 -6.34375 \"/>\n",
       "</symbol>\n",
       "<symbol overflow=\"visible\" id=\"glyph-1566443438862762-0-2\">\n",
       "<path style=\"stroke:none;\" d=\"M 1.265625 -0.765625 L 2.3125 -1.78125 C 3.859375 -3.15625 4.453125 -3.6875 4.453125 -4.6875 C 4.453125 -5.8125 3.5625 -6.609375 2.34375 -6.609375 C 1.234375 -6.609375 0.5 -5.6875 0.5 -4.8125 C 0.5 -4.25 0.984375 -4.25 1.015625 -4.25 C 1.1875 -4.25 1.53125 -4.375 1.53125 -4.78125 C 1.53125 -5.046875 1.359375 -5.296875 1.015625 -5.296875 C 0.9375 -5.296875 0.90625 -5.296875 0.890625 -5.28125 C 1.109375 -5.9375 1.640625 -6.296875 2.21875 -6.296875 C 3.125 -6.296875 3.546875 -5.5 3.546875 -4.6875 C 3.546875 -3.890625 3.0625 -3.109375 2.515625 -2.484375 L 0.609375 -0.359375 C 0.5 -0.265625 0.5 -0.234375 0.5 0 L 4.171875 0 L 4.453125 -1.71875 L 4.203125 -1.71875 C 4.15625 -1.421875 4.09375 -0.984375 3.984375 -0.84375 C 3.921875 -0.765625 3.265625 -0.765625 3.046875 -0.765625 Z M 1.265625 -0.765625 \"/>\n",
       "</symbol>\n",
       "<symbol overflow=\"visible\" id=\"glyph-1566443438862762-0-3\">\n",
       "<path style=\"stroke:none;\" d=\"M 2.875 -3.5 C 3.6875 -3.765625 4.265625 -4.453125 4.265625 -5.234375 C 4.265625 -6.046875 3.390625 -6.609375 2.4375 -6.609375 C 1.4375 -6.609375 0.6875 -6.015625 0.6875 -5.265625 C 0.6875 -4.9375 0.90625 -4.75 1.1875 -4.75 C 1.5 -4.75 1.703125 -4.953125 1.703125 -5.25 C 1.703125 -5.75 1.234375 -5.75 1.078125 -5.75 C 1.390625 -6.234375 2.046875 -6.359375 2.40625 -6.359375 C 2.8125 -6.359375 3.359375 -6.140625 3.359375 -5.25 C 3.359375 -5.125 3.328125 -4.546875 3.078125 -4.125 C 2.78125 -3.640625 2.4375 -3.609375 2.1875 -3.609375 C 2.109375 -3.59375 1.875 -3.578125 1.8125 -3.578125 C 1.71875 -3.5625 1.65625 -3.546875 1.65625 -3.453125 C 1.65625 -3.34375 1.71875 -3.34375 1.890625 -3.34375 L 2.328125 -3.34375 C 3.140625 -3.34375 3.515625 -2.671875 3.515625 -1.703125 C 3.515625 -0.34375 2.828125 -0.0625 2.390625 -0.0625 C 1.96875 -0.0625 1.21875 -0.234375 0.875 -0.8125 C 1.21875 -0.765625 1.53125 -0.984375 1.53125 -1.359375 C 1.53125 -1.71875 1.265625 -1.921875 0.96875 -1.921875 C 0.734375 -1.921875 0.421875 -1.78125 0.421875 -1.34375 C 0.421875 -0.4375 1.34375 0.21875 2.421875 0.21875 C 3.625 0.21875 4.53125 -0.6875 4.53125 -1.703125 C 4.53125 -2.515625 3.90625 -3.28125 2.875 -3.5 Z M 2.875 -3.5 \"/>\n",
       "</symbol>\n",
       "<symbol overflow=\"visible\" id=\"glyph-1566443438862762-0-4\">\n",
       "<path style=\"stroke:none;\" d=\"M 2.921875 -1.640625 L 2.921875 -0.78125 C 2.921875 -0.421875 2.890625 -0.3125 2.15625 -0.3125 L 1.953125 -0.3125 L 1.953125 0 C 2.359375 -0.03125 2.875 -0.03125 3.296875 -0.03125 C 3.703125 -0.03125 4.234375 -0.03125 4.640625 0 L 4.640625 -0.3125 L 4.4375 -0.3125 C 3.703125 -0.3125 3.6875 -0.421875 3.6875 -0.78125 L 3.6875 -1.640625 L 4.671875 -1.640625 L 4.671875 -1.9375 L 3.6875 -1.9375 L 3.6875 -6.453125 C 3.6875 -6.65625 3.6875 -6.71875 3.515625 -6.71875 C 3.4375 -6.71875 3.40625 -6.71875 3.328125 -6.59375 L 0.28125 -1.9375 L 0.28125 -1.640625 Z M 2.96875 -1.9375 L 0.5625 -1.9375 L 2.96875 -5.640625 Z M 2.96875 -1.9375 \"/>\n",
       "</symbol>\n",
       "<symbol overflow=\"visible\" id=\"glyph-1566443438862762-0-5\">\n",
       "<path style=\"stroke:none;\" d=\"M 4.453125 -2 C 4.453125 -3.171875 3.640625 -4.171875 2.5625 -4.171875 C 2.09375 -4.171875 1.671875 -4.015625 1.3125 -3.65625 L 1.3125 -5.59375 C 1.515625 -5.53125 1.828125 -5.46875 2.15625 -5.46875 C 3.375 -5.46875 4.0625 -6.375 4.0625 -6.5 C 4.0625 -6.5625 4.03125 -6.609375 3.96875 -6.609375 C 3.953125 -6.609375 3.9375 -6.609375 3.890625 -6.578125 C 3.6875 -6.484375 3.203125 -6.296875 2.546875 -6.296875 C 2.140625 -6.296875 1.6875 -6.359375 1.21875 -6.5625 C 1.140625 -6.59375 1.125 -6.59375 1.09375 -6.59375 C 1 -6.59375 1 -6.515625 1 -6.359375 L 1 -3.421875 C 1 -3.25 1 -3.171875 1.140625 -3.171875 C 1.203125 -3.171875 1.234375 -3.1875 1.265625 -3.25 C 1.375 -3.40625 1.75 -3.953125 2.546875 -3.953125 C 3.0625 -3.953125 3.3125 -3.5 3.390625 -3.3125 C 3.546875 -2.953125 3.578125 -2.5625 3.578125 -2.0625 C 3.578125 -1.71875 3.578125 -1.125 3.328125 -0.703125 C 3.09375 -0.3125 2.734375 -0.0625 2.265625 -0.0625 C 1.546875 -0.0625 0.984375 -0.578125 0.8125 -1.171875 C 0.84375 -1.15625 0.875 -1.15625 0.984375 -1.15625 C 1.3125 -1.15625 1.484375 -1.40625 1.484375 -1.640625 C 1.484375 -1.875 1.3125 -2.125 0.984375 -2.125 C 0.84375 -2.125 0.5 -2.046875 0.5 -1.59375 C 0.5 -0.75 1.1875 0.21875 2.296875 0.21875 C 3.4375 0.21875 4.453125 -0.734375 4.453125 -2 Z M 4.453125 -2 \"/>\n",
       "</symbol>\n",
       "<symbol overflow=\"visible\" id=\"glyph-1566443438862762-0-6\">\n",
       "<path style=\"stroke:none;\" d=\"M 1.3125 -3.25 L 1.3125 -3.5 C 1.3125 -6 2.546875 -6.359375 3.046875 -6.359375 C 3.28125 -6.359375 3.703125 -6.296875 3.921875 -5.96875 C 3.765625 -5.96875 3.375 -5.96875 3.375 -5.515625 C 3.375 -5.203125 3.609375 -5.0625 3.828125 -5.0625 C 3.984375 -5.0625 4.28125 -5.15625 4.28125 -5.53125 C 4.28125 -6.125 3.84375 -6.609375 3.03125 -6.609375 C 1.75 -6.609375 0.421875 -5.328125 0.421875 -3.140625 C 0.421875 -0.484375 1.5625 0.21875 2.484375 0.21875 C 3.59375 0.21875 4.53125 -0.71875 4.53125 -2.03125 C 4.53125 -3.28125 3.65625 -4.234375 2.546875 -4.234375 C 1.875 -4.234375 1.515625 -3.734375 1.3125 -3.25 Z M 2.484375 -0.0625 C 1.859375 -0.0625 1.5625 -0.65625 1.515625 -0.796875 C 1.328125 -1.265625 1.328125 -2.0625 1.328125 -2.25 C 1.328125 -3.015625 1.640625 -4.015625 2.546875 -4.015625 C 2.703125 -4.015625 3.15625 -4.015625 3.46875 -3.390625 C 3.640625 -3.03125 3.640625 -2.515625 3.640625 -2.03125 C 3.640625 -1.5625 3.640625 -1.0625 3.46875 -0.703125 C 3.171875 -0.109375 2.71875 -0.0625 2.484375 -0.0625 Z M 2.484375 -0.0625 \"/>\n",
       "</symbol>\n",
       "</g>\n",
       "<clipPath id=\"clip-1566443438862762-1\">\n",
       "  <path d=\"M 0 0.226562 L 205.589844 0.226562 L 205.589844 174.480469 L 0 174.480469 Z M 0 0.226562 \"/>\n",
       "</clipPath>\n",
       "<clipPath id=\"clip-1566443438862762-2\">\n",
       "  <path d=\"M 27 0.226562 L 190 0.226562 L 190 162 L 27 162 Z M 27 0.226562 \"/>\n",
       "</clipPath>\n",
       "<clipPath id=\"clip-1566443438862762-3\">\n",
       "  <path d=\"M 11 13 L 205.589844 13 L 205.589844 148 L 11 148 Z M 11 13 \"/>\n",
       "</clipPath>\n",
       "<clipPath id=\"clip-1566443438862762-4\">\n",
       "  <path d=\"M 11 0.226562 L 205.589844 0.226562 L 205.589844 162 L 11 162 Z M 11 0.226562 \"/>\n",
       "</clipPath>\n",
       "</defs>\n",
       "<g id=\"surface1\">\n",
       "<g clip-path=\"url(#clip-1566443438862762-1)\" clip-rule=\"nonzero\">\n",
       "<path style=\" stroke:none;fill-rule:nonzero;fill:rgb(100%,100%,100%);fill-opacity:1;\" d=\"M 0 174.480469 L 206.363281 174.480469 L 206.363281 -0.429688 L 0 -0.429688 Z M 0 174.480469 \"/>\n",
       "</g>\n",
       "<g clip-path=\"url(#clip-1566443438862762-2)\" clip-rule=\"nonzero\">\n",
       "<path style=\"fill:none;stroke-width:0.19925;stroke-linecap:butt;stroke-linejoin:miter;stroke:rgb(50%,50%,50%);stroke-opacity:1;stroke-miterlimit:10;\" d=\"M 0.00151242 -13.449825 L 0.00151242 -9.197039 M 40.475492 -13.449825 L 40.475492 -9.197039 M 80.945551 -13.449825 L 80.945551 -9.197039 M 121.41953 -13.449825 L 121.41953 -9.197039 M 161.89351 -13.449825 L 161.89351 -9.197039 M 0.00151242 147.944381 L 0.00151242 143.691595 M 40.475492 147.944381 L 40.475492 143.691595 M 80.945551 147.944381 L 80.945551 143.691595 M 121.41953 147.944381 L 121.41953 143.691595 M 161.89351 147.944381 L 161.89351 143.691595 \" transform=\"matrix(0.996589,0,0,-0.996589,27.916461,147.861673)\"/>\n",
       "</g>\n",
       "<g clip-path=\"url(#clip-1566443438862762-3)\" clip-rule=\"nonzero\">\n",
       "<path style=\"fill:none;stroke-width:0.19925;stroke-linecap:butt;stroke-linejoin:miter;stroke:rgb(50%,50%,50%);stroke-opacity:1;stroke-miterlimit:10;\" d=\"M -16.190431 -0.00161406 L -11.937645 -0.00161406 M -16.190431 33.624792 L -11.937645 33.624792 M -16.190431 67.247278 L -11.937645 67.247278 M -16.190431 100.869764 L -11.937645 100.869764 M -16.190431 134.49617 L -11.937645 134.49617 M 178.085453 -0.00161406 L 173.832667 -0.00161406 M 178.085453 33.624792 L 173.832667 33.624792 M 178.085453 67.247278 L 173.832667 67.247278 M 178.085453 100.869764 L 173.832667 100.869764 M 178.085453 134.49617 L 173.832667 134.49617 \" transform=\"matrix(0.996589,0,0,-0.996589,27.916461,147.861673)\"/>\n",
       "</g>\n",
       "<g clip-path=\"url(#clip-1566443438862762-4)\" clip-rule=\"nonzero\">\n",
       "<path style=\"fill:none;stroke-width:0.3985;stroke-linecap:butt;stroke-linejoin:miter;stroke:rgb(0%,0%,0%);stroke-opacity:1;stroke-miterlimit:10;\" d=\"M -16.190431 -13.449825 L -16.190431 147.944381 L 178.085453 147.944381 L 178.085453 -13.449825 Z M -16.190431 -13.449825 \" transform=\"matrix(0.996589,0,0,-0.996589,27.916461,147.861673)\"/>\n",
       "</g>\n",
       "<g style=\"fill:rgb(0%,0%,0%);fill-opacity:1;\">\n",
       "  <use xlink:href=\"#glyph-1566443438862762-0-1\" x=\"25.433957\" y=\"171.171898\"/>\n",
       "</g>\n",
       "<g style=\"fill:rgb(0%,0%,0%);fill-opacity:1;\">\n",
       "  <use xlink:href=\"#glyph-1566443438862762-0-2\" x=\"65.768919\" y=\"171.171898\"/>\n",
       "</g>\n",
       "<g style=\"fill:rgb(0%,0%,0%);fill-opacity:1;\">\n",
       "  <use xlink:href=\"#glyph-1566443438862762-0-3\" x=\"106.104877\" y=\"171.171898\"/>\n",
       "</g>\n",
       "<g style=\"fill:rgb(0%,0%,0%);fill-opacity:1;\">\n",
       "  <use xlink:href=\"#glyph-1566443438862762-0-4\" x=\"146.439839\" y=\"171.171898\"/>\n",
       "</g>\n",
       "<g style=\"fill:rgb(0%,0%,0%);fill-opacity:1;\">\n",
       "  <use xlink:href=\"#glyph-1566443438862762-0-5\" x=\"186.774801\" y=\"171.171898\"/>\n",
       "</g>\n",
       "<g style=\"fill:rgb(0%,0%,0%);fill-opacity:1;\">\n",
       "  <use xlink:href=\"#glyph-1566443438862762-0-2\" x=\"3.309673\" y=\"151.060725\"/>\n",
       "</g>\n",
       "<g style=\"fill:rgb(0%,0%,0%);fill-opacity:1;\">\n",
       "  <use xlink:href=\"#glyph-1566443438862762-0-3\" x=\"3.309673\" y=\"117.5524\"/>\n",
       "</g>\n",
       "<g style=\"fill:rgb(0%,0%,0%);fill-opacity:1;\">\n",
       "  <use xlink:href=\"#glyph-1566443438862762-0-4\" x=\"3.309673\" y=\"84.044076\"/>\n",
       "</g>\n",
       "<g style=\"fill:rgb(0%,0%,0%);fill-opacity:1;\">\n",
       "  <use xlink:href=\"#glyph-1566443438862762-0-5\" x=\"3.309673\" y=\"50.534755\"/>\n",
       "</g>\n",
       "<g style=\"fill:rgb(0%,0%,0%);fill-opacity:1;\">\n",
       "  <use xlink:href=\"#glyph-1566443438862762-0-6\" x=\"3.309673\" y=\"17.02643\"/>\n",
       "</g>\n",
       "<path style=\"fill:none;stroke-width:0.3985;stroke-linecap:butt;stroke-linejoin:miter;stroke:rgb(0%,0%,100%);stroke-opacity:1;stroke-miterlimit:10;\" d=\"M 0.00151242 -0.00161406 L 40.475492 33.624792 L 80.945551 67.247278 L 121.41953 100.873684 L 161.89351 134.49617 \" transform=\"matrix(0.996589,0,0,-0.996589,27.916461,147.861673)\"/>\n",
       "<path style=\"fill-rule:nonzero;fill:rgb(0%,0%,79.998779%);fill-opacity:1;stroke-width:0.3985;stroke-linecap:butt;stroke-linejoin:miter;stroke:rgb(0%,0%,100%);stroke-opacity:1;stroke-miterlimit:10;\" d=\"M 1.992679 -0.00161406 C 1.992679 1.099799 1.099006 1.993472 0.00151242 1.993472 C -1.0999 1.993472 -1.993573 1.099799 -1.993573 -0.00161406 C -1.993573 -1.099107 -1.0999 -1.99278 0.00151242 -1.99278 C 1.099006 -1.99278 1.992679 -1.099107 1.992679 -0.00161406 Z M 1.992679 -0.00161406 \" transform=\"matrix(0.996589,0,0,-0.996589,27.916461,147.861673)\"/>\n",
       "<path style=\"fill-rule:nonzero;fill:rgb(0%,0%,79.998779%);fill-opacity:1;stroke-width:0.3985;stroke-linecap:butt;stroke-linejoin:miter;stroke:rgb(0%,0%,100%);stroke-opacity:1;stroke-miterlimit:10;\" d=\"M 42.466658 33.624792 C 42.466658 34.726205 41.572985 35.615958 40.475492 35.615958 C 39.374079 35.615958 38.480406 34.726205 38.480406 33.624792 C 38.480406 32.523379 39.374079 31.633626 40.475492 31.633626 C 41.572985 31.633626 42.466658 32.523379 42.466658 33.624792 Z M 42.466658 33.624792 \" transform=\"matrix(0.996589,0,0,-0.996589,27.916461,147.861673)\"/>\n",
       "<path style=\"fill-rule:nonzero;fill:rgb(0%,0%,79.998779%);fill-opacity:1;stroke-width:0.3985;stroke-linecap:butt;stroke-linejoin:miter;stroke:rgb(0%,0%,100%);stroke-opacity:1;stroke-miterlimit:10;\" d=\"M 82.940637 67.247278 C 82.940637 68.348691 82.046964 69.242364 80.945551 69.242364 C 79.848058 69.242364 78.954385 68.348691 78.954385 67.247278 C 78.954385 66.149785 79.848058 65.256112 80.945551 65.256112 C 82.046964 65.256112 82.940637 66.149785 82.940637 67.247278 Z M 82.940637 67.247278 \" transform=\"matrix(0.996589,0,0,-0.996589,27.916461,147.861673)\"/>\n",
       "<path style=\"fill-rule:nonzero;fill:rgb(0%,0%,79.998779%);fill-opacity:1;stroke-width:0.3985;stroke-linecap:butt;stroke-linejoin:miter;stroke:rgb(0%,0%,100%);stroke-opacity:1;stroke-miterlimit:10;\" d=\"M 123.414616 100.873684 C 123.414616 101.975097 122.520943 102.86485 121.41953 102.86485 C 120.322037 102.86485 119.428364 101.975097 119.428364 100.873684 C 119.428364 99.772271 120.322037 98.878598 121.41953 98.878598 C 122.520943 98.878598 123.414616 99.772271 123.414616 100.873684 Z M 123.414616 100.873684 \" transform=\"matrix(0.996589,0,0,-0.996589,27.916461,147.861673)\"/>\n",
       "<path style=\"fill-rule:nonzero;fill:rgb(0%,0%,79.998779%);fill-opacity:1;stroke-width:0.3985;stroke-linecap:butt;stroke-linejoin:miter;stroke:rgb(0%,0%,100%);stroke-opacity:1;stroke-miterlimit:10;\" d=\"M 163.888595 134.49617 C 163.888595 135.597583 162.994922 136.491256 161.89351 136.491256 C 160.796016 136.491256 159.902343 135.597583 159.902343 134.49617 C 159.902343 133.398677 160.796016 132.505004 161.89351 132.505004 C 162.994922 132.505004 163.888595 133.398677 163.888595 134.49617 Z M 163.888595 134.49617 \" transform=\"matrix(0.996589,0,0,-0.996589,27.916461,147.861673)\"/>\n",
       "</g>\n",
       "</svg>\n",
       "\n"
      ],
      "text/plain": [
       "Plot(false, true, PGFPlotsX.Options(OrderedCollections.OrderedDict{Any,Any}(), false), Coordinates{2}(Union{Nothing, Coordinate{2}}[Coordinate{2}((1, 2), nothing, nothing, nothing, nothing), Coordinate{2}((2, 3), nothing, nothing, nothing, nothing), Coordinate{2}((3, 4), nothing, nothing, nothing, nothing), Coordinate{2}((4, 5), nothing, nothing, nothing, nothing), Coordinate{2}((5, 6), nothing, nothing, nothing, nothing)]), Any[])"
      ]
     },
     "execution_count": 29,
     "metadata": {},
     "output_type": "execute_result"
    }
   ],
   "source": [
    "p = @pgf PlotInc(c)"
   ]
  },
  {
   "cell_type": "code",
   "execution_count": 30,
   "metadata": {},
   "outputs": [
    {
     "data": {
      "text/plain": [
       "\"red\""
      ]
     },
     "execution_count": 30,
     "metadata": {},
     "output_type": "execute_result"
    }
   ],
   "source": [
    "p[\"fill\"] = \"red\""
   ]
  },
  {
   "cell_type": "code",
   "execution_count": 31,
   "metadata": {},
   "outputs": [
    {
     "data": {
      "text/plain": [
       "PGFPlotsX.Options(OrderedCollections.OrderedDict{Any,Any}(\"xmin\"=>0), true)"
      ]
     },
     "execution_count": 31,
     "metadata": {},
     "output_type": "execute_result"
    }
   ],
   "source": [
    "@pgf  opts = {xmin = 0}"
   ]
  },
  {
   "cell_type": "code",
   "execution_count": 32,
   "metadata": {},
   "outputs": [
    {
     "name": "stdout",
     "output_type": "stream",
     "text": [
      "! Package pgfplots Error: Sorry, you can't change `xmin' in this context. Maybe\n",
      " you need to provide it as \\begin{axis}[xmin=...] ?.\n",
      "\n",
      "See the pgfplots package documentation for explanation.\n",
      "Type  H <return>  for immediate help.\n",
      " ...                                              \n",
      "                                                  \n",
      "l.24         ;\n",
      "            \n"
     ]
    },
    {
     "data": {
      "text/plain": [
       "Plot(false, true, PGFPlotsX.Options(OrderedCollections.OrderedDict{Any,Any}(\"fill\"=>\"red\",\"xmin\"=>0), false), Coordinates{2}(Union{Nothing, Coordinate{2}}[Coordinate{2}((1, 2), nothing, nothing, nothing, nothing), Coordinate{2}((2, 3), nothing, nothing, nothing, nothing), Coordinate{2}((3, 4), nothing, nothing, nothing, nothing), Coordinate{2}((4, 5), nothing, nothing, nothing, nothing), Coordinate{2}((5, 6), nothing, nothing, nothing, nothing)]), Any[])"
      ]
     },
     "execution_count": 32,
     "metadata": {},
     "output_type": "execute_result"
    },
    {
     "name": "stdout",
     "output_type": "stream",
     "text": [
      "! Package pgfplots Error: Sorry, you can't change `xmin' in this context. Maybe\n",
      " you need to provide it as \\begin{axis}[xmin=...] ?.\n",
      "\n",
      "See the pgfplots package documentation for explanation.\n",
      "Type  H <return>  for immediate help.\n",
      " ...                                              \n",
      "                                                  \n",
      "l.24         ;\n",
      "            \n"
     ]
    }
   ],
   "source": [
    "merge!(p,opts)"
   ]
  },
  {
   "cell_type": "code",
   "execution_count": null,
   "metadata": {},
   "outputs": [],
   "source": []
  }
 ],
 "metadata": {
  "@webio": {
   "lastCommId": null,
   "lastKernelId": null
  },
  "kernelspec": {
   "display_name": "Julia 1.1.1",
   "language": "julia",
   "name": "julia-1.1"
  },
  "language_info": {
   "file_extension": ".jl",
   "mimetype": "application/julia",
   "name": "julia",
   "version": "1.1.1"
  }
 },
 "nbformat": 4,
 "nbformat_minor": 2
}
